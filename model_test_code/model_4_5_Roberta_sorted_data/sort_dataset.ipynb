{
 "cells": [
  {
   "cell_type": "markdown",
   "metadata": {},
   "source": [
    "# Split Dataset Using Topic Chooser\n",
    "#### 29 Nov 2020"
   ]
  },
  {
   "cell_type": "code",
   "execution_count": 1,
   "metadata": {},
   "outputs": [],
   "source": [
    "# Set Evaulation Parameters\n",
    "MODEL_NAME = \"distilbert-base-uncased\"\n",
    "MODEL_FILE =\"sorter_saved_model_epoch5_20201126_1904.tar\"\n",
    "SORT_DATASET = \"test_dataset_all_titles_29Nov_distilbert.pickle\"\n",
    "TEST_DATASET = \"test_dataset_all_titles_29Nov_roberta.pickle\""
   ]
  },
  {
   "cell_type": "code",
   "execution_count": 2,
   "metadata": {},
   "outputs": [],
   "source": [
    "import copy\n",
    "import itertools\n",
    "import pickle\n",
    "import sys\n",
    "\n",
    "import json\n",
    "import pandas as pd\n",
    "import pickle\n",
    "import tqdm\n",
    "import torch\n",
    "import torch.utils.data\n",
    "import transformers as hft\n",
    "\n",
    "sys.path.insert(0, \"/home/jupyter\")\n",
    "import util.log\n",
    "import util.data"
   ]
  },
  {
   "cell_type": "code",
   "execution_count": 3,
   "metadata": {},
   "outputs": [],
   "source": [
    "# Load dataset that will be used for sorting\n",
    "with open(SORT_DATASET, \"rb\") as dfile:\n",
    "    dataset = pickle.load(dfile)"
   ]
  },
  {
   "cell_type": "code",
   "execution_count": 4,
   "metadata": {},
   "outputs": [
    {
     "name": "stderr",
     "output_type": "stream",
     "text": [
      "Some weights of the model checkpoint at distilbert-base-uncased were not used when initializing DistilBertForSequenceClassification: ['vocab_transform.weight', 'vocab_transform.bias', 'vocab_layer_norm.weight', 'vocab_layer_norm.bias', 'vocab_projector.weight', 'vocab_projector.bias']\n",
      "- This IS expected if you are initializing DistilBertForSequenceClassification from the checkpoint of a model trained on another task or with another architecture (e.g. initializing a BertForSequenceClassification model from a BertForPreTraining model).\n",
      "- This IS NOT expected if you are initializing DistilBertForSequenceClassification from the checkpoint of a model that you expect to be exactly identical (initializing a BertForSequenceClassification model from a BertForSequenceClassification model).\n",
      "Some weights of DistilBertForSequenceClassification were not initialized from the model checkpoint at distilbert-base-uncased and are newly initialized: ['pre_classifier.weight', 'pre_classifier.bias', 'classifier.weight', 'classifier.bias']\n",
      "You should probably TRAIN this model on a down-stream task to be able to use it for predictions and inference.\n"
     ]
    },
    {
     "data": {
      "text/plain": [
       "<All keys matched successfully>"
      ]
     },
     "execution_count": 4,
     "metadata": {},
     "output_type": "execute_result"
    }
   ],
   "source": [
    "# Load saved model\n",
    "checkpoint = torch.load(MODEL_FILE)\n",
    "model = (hft.DistilBertForSequenceClassification\n",
    "         .from_pretrained(MODEL_NAME))\n",
    "model.load_state_dict(checkpoint[\"model\"])"
   ]
  },
  {
   "cell_type": "code",
   "execution_count": 5,
   "metadata": {},
   "outputs": [
    {
     "data": {
      "text/plain": [
       "device(type='cuda')"
      ]
     },
     "execution_count": 5,
     "metadata": {},
     "output_type": "execute_result"
    }
   ],
   "source": [
    "# Move model to GPU if available\n",
    "device = (torch.device('cuda') if torch.cuda.is_available()\n",
    "          else torch.device('cpu'))\n",
    "model.to(device)\n",
    "model.eval();\n",
    "device"
   ]
  },
  {
   "cell_type": "code",
   "execution_count": 6,
   "metadata": {},
   "outputs": [
    {
     "name": "stderr",
     "output_type": "stream",
     "text": [
      "3660it [00:40, 91.06it/s]\n"
     ]
    }
   ],
   "source": [
    "political_files = []\n",
    "gossip_files = []\n",
    "\n",
    "with torch.no_grad():\n",
    "    for idx, article in tqdm.tqdm(enumerate(dataset)):\n",
    "        input_ids = article[\"input_ids\"].to(device)\n",
    "        attent_mask = article[\"attention_mask\"].to(device)\n",
    "        output = model(input_ids.unsqueeze(0),\n",
    "                       attention_mask=attent_mask.unsqueeze(0),\n",
    "                       output_hidden_states=False,\n",
    "                       output_attentions=False)\n",
    "        logit = output[0].squeeze(0).detach().cpu().numpy()\n",
    "        if logit[0] > logit[1]:\n",
    "            gossip_files.append(article[\"file_names\"])\n",
    "        else:\n",
    "            political_files.append(article[\"file_names\"])"
   ]
  },
  {
   "cell_type": "code",
   "execution_count": 7,
   "metadata": {},
   "outputs": [],
   "source": [
    "# Load dataset that will be split\n",
    "with open(TEST_DATASET, \"rb\") as pfile:\n",
    "    test_dataset = pickle.load(pfile)"
   ]
  },
  {
   "cell_type": "code",
   "execution_count": 8,
   "metadata": {},
   "outputs": [],
   "source": [
    "polit_data = util.data.subset_FNDataset(test_dataset, political_files)"
   ]
  },
  {
   "cell_type": "code",
   "execution_count": 9,
   "metadata": {},
   "outputs": [],
   "source": [
    "gossip_data = util.data.subset_FNDataset(test_dataset, gossip_files)"
   ]
  },
  {
   "cell_type": "code",
   "execution_count": 10,
   "metadata": {},
   "outputs": [],
   "source": [
    "assert len(polit_data) + len(gossip_data) == len(dataset)"
   ]
  },
  {
   "cell_type": "code",
   "execution_count": 11,
   "metadata": {},
   "outputs": [
    {
     "data": {
      "text/plain": [
       "136"
      ]
     },
     "execution_count": 11,
     "metadata": {},
     "output_type": "execute_result"
    }
   ],
   "source": [
    "len(polit_data)"
   ]
  },
  {
   "cell_type": "code",
   "execution_count": 12,
   "metadata": {},
   "outputs": [
    {
     "data": {
      "text/plain": [
       "3524"
      ]
     },
     "execution_count": 12,
     "metadata": {},
     "output_type": "execute_result"
    }
   ],
   "source": [
    "len(gossip_data)"
   ]
  },
  {
   "cell_type": "code",
   "execution_count": 13,
   "metadata": {},
   "outputs": [
    {
     "data": {
      "text/plain": [
       "['gossipcop-9324384637',\n",
       " 'politifact8737',\n",
       " 'gossipcop-889110',\n",
       " 'politifact15205',\n",
       " 'politifact14490',\n",
       " 'politifact15270',\n",
       " 'politifact14621',\n",
       " 'gossipcop-863027',\n",
       " 'politifact13766',\n",
       " 'politifact8611',\n",
       " 'politifact1783',\n",
       " 'gossipcop-7262259263',\n",
       " 'gossipcop-856597',\n",
       " 'politifact14071',\n",
       " 'politifact546',\n",
       " 'politifact13052',\n",
       " 'politifact14211',\n",
       " 'politifact2881',\n",
       " 'politifact239',\n",
       " 'politifact1135']"
      ]
     },
     "execution_count": 13,
     "metadata": {},
     "output_type": "execute_result"
    }
   ],
   "source": [
    "polit_data.file_names[:20]"
   ]
  },
  {
   "cell_type": "code",
   "execution_count": 14,
   "metadata": {},
   "outputs": [
    {
     "data": {
      "text/plain": [
       "['gossipcop-9843277966',\n",
       " 'gossipcop-7642653086',\n",
       " 'gossipcop-928427',\n",
       " 'gossipcop-953132',\n",
       " 'gossipcop-2045311114',\n",
       " 'gossipcop-881389',\n",
       " 'gossipcop-2389938114',\n",
       " 'gossipcop-869038',\n",
       " 'gossipcop-915948',\n",
       " 'gossipcop-919444',\n",
       " 'gossipcop-890617',\n",
       " 'gossipcop-882273',\n",
       " 'gossipcop-854882',\n",
       " 'gossipcop-849046',\n",
       " 'gossipcop-940508',\n",
       " 'gossipcop-854448',\n",
       " 'gossipcop-892283',\n",
       " 'gossipcop-931140',\n",
       " 'gossipcop-952734',\n",
       " 'gossipcop-943331']"
      ]
     },
     "execution_count": 14,
     "metadata": {},
     "output_type": "execute_result"
    }
   ],
   "source": [
    "gossip_data.file_names[:20]"
   ]
  },
  {
   "cell_type": "code",
   "execution_count": 15,
   "metadata": {},
   "outputs": [],
   "source": [
    "with open(\"political_filenames_test.pickle\", \"wb\") as pfile:\n",
    "    pickle.dump(polit_data.file_names, pfile)"
   ]
  },
  {
   "cell_type": "code",
   "execution_count": 16,
   "metadata": {},
   "outputs": [],
   "source": [
    "with open(\"gossip_filenames_test.pickle\", \"wb\") as pfile:\n",
    "    pickle.dump(gossip_data.file_names, pfile)"
   ]
  },
  {
   "cell_type": "code",
   "execution_count": 17,
   "metadata": {},
   "outputs": [],
   "source": [
    "with open(\"sorted_dataset_gc_roberta_29Nov.pickle\", \"wb\") as pfile:\n",
    "    pickle.dump(gossip_data, pfile)"
   ]
  },
  {
   "cell_type": "code",
   "execution_count": 18,
   "metadata": {},
   "outputs": [],
   "source": [
    "with open(\"sorted_dataset_pf_roberta_29Nov.pickle\", \"wb\") as pfile:\n",
    "    pickle.dump(polit_data, pfile)"
   ]
  },
  {
   "cell_type": "code",
   "execution_count": null,
   "metadata": {},
   "outputs": [],
   "source": []
  }
 ],
 "metadata": {
  "kernelspec": {
   "display_name": "Python 3",
   "language": "python",
   "name": "python3"
  },
  "language_info": {
   "codemirror_mode": {
    "name": "ipython",
    "version": 3
   },
   "file_extension": ".py",
   "mimetype": "text/x-python",
   "name": "python",
   "nbconvert_exporter": "python",
   "pygments_lexer": "ipython3",
   "version": "3.8.5"
  }
 },
 "nbformat": 4,
 "nbformat_minor": 4
}
