{
 "cells": [
  {
   "cell_type": "markdown",
   "metadata": {},
   "source": [
    "# Calculate Combined Metrics"
   ]
  },
  {
   "cell_type": "code",
   "execution_count": 1,
   "metadata": {},
   "outputs": [],
   "source": [
    "import json\n",
    "import pickle\n",
    "import sys\n",
    "\n",
    "import pandas as pd\n",
    "import sklearn.metrics\n",
    "\n",
    "sys.path.insert(0, \"/home/jupyter\")\n",
    "import util.log\n",
    "import util.data"
   ]
  },
  {
   "cell_type": "code",
   "execution_count": 2,
   "metadata": {},
   "outputs": [],
   "source": [
    "GC_CSV_FILE = \"test_data_GC.csv\"\n",
    "PF_CSV_FILE = \"test_data_PF.csv\""
   ]
  },
  {
   "cell_type": "code",
   "execution_count": 8,
   "metadata": {},
   "outputs": [],
   "source": [
    "gc_df = pd.read_csv(GC_CSV_FILE)\n",
    "pf_df = pd.read_csv(PF_CSV_FILE)"
   ]
  },
  {
   "cell_type": "code",
   "execution_count": 9,
   "metadata": {},
   "outputs": [
    {
     "data": {
      "text/html": [
       "<div>\n",
       "<style scoped>\n",
       "    .dataframe tbody tr th:only-of-type {\n",
       "        vertical-align: middle;\n",
       "    }\n",
       "\n",
       "    .dataframe tbody tr th {\n",
       "        vertical-align: top;\n",
       "    }\n",
       "\n",
       "    .dataframe thead th {\n",
       "        text-align: right;\n",
       "    }\n",
       "</style>\n",
       "<table border=\"1\" class=\"dataframe\">\n",
       "  <thead>\n",
       "    <tr style=\"text-align: right;\">\n",
       "      <th></th>\n",
       "      <th>Unnamed: 0</th>\n",
       "      <th>Article</th>\n",
       "      <th>Source</th>\n",
       "      <th>Token_Length</th>\n",
       "      <th>Predictions</th>\n",
       "      <th>Labels</th>\n",
       "      <th>Logit_real(0)</th>\n",
       "      <th>Logit_fake(1)</th>\n",
       "      <th>Prob_real(0)</th>\n",
       "      <th>Prob_real(1)</th>\n",
       "      <th>File_Name</th>\n",
       "      <th>Sort_Result</th>\n",
       "    </tr>\n",
       "  </thead>\n",
       "  <tbody>\n",
       "    <tr>\n",
       "      <th>0</th>\n",
       "      <td>0</td>\n",
       "      <td>0</td>\n",
       "      <td>gossipcop</td>\n",
       "      <td>584</td>\n",
       "      <td>1</td>\n",
       "      <td>1</td>\n",
       "      <td>-2.757137</td>\n",
       "      <td>2.776392</td>\n",
       "      <td>0.003936</td>\n",
       "      <td>0.996064</td>\n",
       "      <td>gossipcop-9843277966</td>\n",
       "      <td>gossip</td>\n",
       "    </tr>\n",
       "    <tr>\n",
       "      <th>1</th>\n",
       "      <td>1</td>\n",
       "      <td>1</td>\n",
       "      <td>gossipcop</td>\n",
       "      <td>641</td>\n",
       "      <td>1</td>\n",
       "      <td>1</td>\n",
       "      <td>-2.756062</td>\n",
       "      <td>2.775949</td>\n",
       "      <td>0.003942</td>\n",
       "      <td>0.996058</td>\n",
       "      <td>gossipcop-7642653086</td>\n",
       "      <td>gossip</td>\n",
       "    </tr>\n",
       "    <tr>\n",
       "      <th>2</th>\n",
       "      <td>2</td>\n",
       "      <td>2</td>\n",
       "      <td>gossipcop</td>\n",
       "      <td>330</td>\n",
       "      <td>0</td>\n",
       "      <td>0</td>\n",
       "      <td>2.424183</td>\n",
       "      <td>-2.559280</td>\n",
       "      <td>0.993196</td>\n",
       "      <td>0.006804</td>\n",
       "      <td>gossipcop-928427</td>\n",
       "      <td>gossip</td>\n",
       "    </tr>\n",
       "    <tr>\n",
       "      <th>3</th>\n",
       "      <td>3</td>\n",
       "      <td>3</td>\n",
       "      <td>gossipcop</td>\n",
       "      <td>1573</td>\n",
       "      <td>0</td>\n",
       "      <td>0</td>\n",
       "      <td>2.443434</td>\n",
       "      <td>-2.575524</td>\n",
       "      <td>0.993432</td>\n",
       "      <td>0.006568</td>\n",
       "      <td>gossipcop-953132</td>\n",
       "      <td>gossip</td>\n",
       "    </tr>\n",
       "    <tr>\n",
       "      <th>4</th>\n",
       "      <td>4</td>\n",
       "      <td>4</td>\n",
       "      <td>gossipcop</td>\n",
       "      <td>1227</td>\n",
       "      <td>1</td>\n",
       "      <td>1</td>\n",
       "      <td>-2.613986</td>\n",
       "      <td>2.674522</td>\n",
       "      <td>0.005024</td>\n",
       "      <td>0.994976</td>\n",
       "      <td>gossipcop-2045311114</td>\n",
       "      <td>gossip</td>\n",
       "    </tr>\n",
       "  </tbody>\n",
       "</table>\n",
       "</div>"
      ],
      "text/plain": [
       "   Unnamed: 0  Article     Source  Token_Length  Predictions  Labels  \\\n",
       "0           0        0  gossipcop           584            1       1   \n",
       "1           1        1  gossipcop           641            1       1   \n",
       "2           2        2  gossipcop           330            0       0   \n",
       "3           3        3  gossipcop          1573            0       0   \n",
       "4           4        4  gossipcop          1227            1       1   \n",
       "\n",
       "   Logit_real(0)  Logit_fake(1)  Prob_real(0)  Prob_real(1)  \\\n",
       "0      -2.757137       2.776392      0.003936      0.996064   \n",
       "1      -2.756062       2.775949      0.003942      0.996058   \n",
       "2       2.424183      -2.559280      0.993196      0.006804   \n",
       "3       2.443434      -2.575524      0.993432      0.006568   \n",
       "4      -2.613986       2.674522      0.005024      0.994976   \n",
       "\n",
       "              File_Name Sort_Result  \n",
       "0  gossipcop-9843277966      gossip  \n",
       "1  gossipcop-7642653086      gossip  \n",
       "2      gossipcop-928427      gossip  \n",
       "3      gossipcop-953132      gossip  \n",
       "4  gossipcop-2045311114      gossip  "
      ]
     },
     "execution_count": 9,
     "metadata": {},
     "output_type": "execute_result"
    }
   ],
   "source": [
    "gc_df[\"Sort_Result\"] = \"gossip\"\n",
    "gc_df.head()"
   ]
  },
  {
   "cell_type": "code",
   "execution_count": 10,
   "metadata": {},
   "outputs": [
    {
     "data": {
      "text/html": [
       "<div>\n",
       "<style scoped>\n",
       "    .dataframe tbody tr th:only-of-type {\n",
       "        vertical-align: middle;\n",
       "    }\n",
       "\n",
       "    .dataframe tbody tr th {\n",
       "        vertical-align: top;\n",
       "    }\n",
       "\n",
       "    .dataframe thead th {\n",
       "        text-align: right;\n",
       "    }\n",
       "</style>\n",
       "<table border=\"1\" class=\"dataframe\">\n",
       "  <thead>\n",
       "    <tr style=\"text-align: right;\">\n",
       "      <th></th>\n",
       "      <th>Unnamed: 0</th>\n",
       "      <th>Article</th>\n",
       "      <th>Source</th>\n",
       "      <th>Token_Length</th>\n",
       "      <th>Predictions</th>\n",
       "      <th>Labels</th>\n",
       "      <th>Logit_real(0)</th>\n",
       "      <th>Logit_fake(1)</th>\n",
       "      <th>Prob_real(0)</th>\n",
       "      <th>Prob_real(1)</th>\n",
       "      <th>File_Name</th>\n",
       "      <th>Sort_Result</th>\n",
       "    </tr>\n",
       "  </thead>\n",
       "  <tbody>\n",
       "    <tr>\n",
       "      <th>0</th>\n",
       "      <td>0</td>\n",
       "      <td>0</td>\n",
       "      <td>gossipcop</td>\n",
       "      <td>281</td>\n",
       "      <td>1</td>\n",
       "      <td>1</td>\n",
       "      <td>-3.197902</td>\n",
       "      <td>2.537999</td>\n",
       "      <td>0.003218</td>\n",
       "      <td>0.996782</td>\n",
       "      <td>gossipcop-9324384637</td>\n",
       "      <td>political</td>\n",
       "    </tr>\n",
       "    <tr>\n",
       "      <th>1</th>\n",
       "      <td>1</td>\n",
       "      <td>1</td>\n",
       "      <td>politifact</td>\n",
       "      <td>15506</td>\n",
       "      <td>0</td>\n",
       "      <td>0</td>\n",
       "      <td>4.058324</td>\n",
       "      <td>-4.163477</td>\n",
       "      <td>0.999731</td>\n",
       "      <td>0.000269</td>\n",
       "      <td>politifact8737</td>\n",
       "      <td>political</td>\n",
       "    </tr>\n",
       "    <tr>\n",
       "      <th>2</th>\n",
       "      <td>2</td>\n",
       "      <td>2</td>\n",
       "      <td>gossipcop</td>\n",
       "      <td>351</td>\n",
       "      <td>1</td>\n",
       "      <td>0</td>\n",
       "      <td>-1.782905</td>\n",
       "      <td>1.667640</td>\n",
       "      <td>0.030753</td>\n",
       "      <td>0.969247</td>\n",
       "      <td>gossipcop-889110</td>\n",
       "      <td>political</td>\n",
       "    </tr>\n",
       "    <tr>\n",
       "      <th>3</th>\n",
       "      <td>3</td>\n",
       "      <td>3</td>\n",
       "      <td>politifact</td>\n",
       "      <td>218</td>\n",
       "      <td>1</td>\n",
       "      <td>1</td>\n",
       "      <td>-4.291286</td>\n",
       "      <td>3.983364</td>\n",
       "      <td>0.000255</td>\n",
       "      <td>0.999745</td>\n",
       "      <td>politifact15205</td>\n",
       "      <td>political</td>\n",
       "    </tr>\n",
       "    <tr>\n",
       "      <th>4</th>\n",
       "      <td>4</td>\n",
       "      <td>4</td>\n",
       "      <td>politifact</td>\n",
       "      <td>145</td>\n",
       "      <td>1</td>\n",
       "      <td>1</td>\n",
       "      <td>-2.897077</td>\n",
       "      <td>2.571214</td>\n",
       "      <td>0.004201</td>\n",
       "      <td>0.995799</td>\n",
       "      <td>politifact14490</td>\n",
       "      <td>political</td>\n",
       "    </tr>\n",
       "  </tbody>\n",
       "</table>\n",
       "</div>"
      ],
      "text/plain": [
       "   Unnamed: 0  Article      Source  Token_Length  Predictions  Labels  \\\n",
       "0           0        0   gossipcop           281            1       1   \n",
       "1           1        1  politifact         15506            0       0   \n",
       "2           2        2   gossipcop           351            1       0   \n",
       "3           3        3  politifact           218            1       1   \n",
       "4           4        4  politifact           145            1       1   \n",
       "\n",
       "   Logit_real(0)  Logit_fake(1)  Prob_real(0)  Prob_real(1)  \\\n",
       "0      -3.197902       2.537999      0.003218      0.996782   \n",
       "1       4.058324      -4.163477      0.999731      0.000269   \n",
       "2      -1.782905       1.667640      0.030753      0.969247   \n",
       "3      -4.291286       3.983364      0.000255      0.999745   \n",
       "4      -2.897077       2.571214      0.004201      0.995799   \n",
       "\n",
       "              File_Name Sort_Result  \n",
       "0  gossipcop-9324384637   political  \n",
       "1        politifact8737   political  \n",
       "2      gossipcop-889110   political  \n",
       "3       politifact15205   political  \n",
       "4       politifact14490   political  "
      ]
     },
     "execution_count": 10,
     "metadata": {},
     "output_type": "execute_result"
    }
   ],
   "source": [
    "pf_df[\"Sort_Result\"] = \"political\"\n",
    "pf_df.head()"
   ]
  },
  {
   "cell_type": "code",
   "execution_count": 11,
   "metadata": {},
   "outputs": [
    {
     "data": {
      "text/plain": [
       "(3660, 12)"
      ]
     },
     "execution_count": 11,
     "metadata": {},
     "output_type": "execute_result"
    }
   ],
   "source": [
    "all_df = pd.concat([pf_df, gc_df])\n",
    "all_df.shape"
   ]
  },
  {
   "cell_type": "code",
   "execution_count": 12,
   "metadata": {},
   "outputs": [],
   "source": [
    "# Save evaluation data to csv file\n",
    "all_df.to_csv(\"test_data_ALL.csv\")"
   ]
  },
  {
   "cell_type": "code",
   "execution_count": 15,
   "metadata": {},
   "outputs": [
    {
     "data": {
      "text/plain": [
       "{'description': 'Combined metrics for Roberta models on sorted data.',\n",
       " 'eval_notes': 'Evaluating both gossipcop and poltifact data',\n",
       " 'model': 'Ten-epoch Roberta models, one trained on gossipcop, other on politifact',\n",
       " 'Date_evaluated': '30Nov2020',\n",
       " 'accuracy': 0.8562841530054645,\n",
       " 'precision': 0.7337962962962963,\n",
       " 'recall': 0.6817204301075269,\n",
       " 'f1': 0.7068004459308808}"
      ]
     },
     "execution_count": 15,
     "metadata": {},
     "output_type": "execute_result"
    }
   ],
   "source": [
    "# Overall Metrics\n",
    "precision, recall, f1, _ = sklearn.metrics.precision_recall_fscore_support(\n",
    "    all_df.Labels, all_df.Predictions, average=\"binary\")\n",
    "accuracy = sklearn.metrics.accuracy_score(all_df.Labels, all_df.Predictions)\n",
    "\n",
    "metrics = {\"description\": \"Combined metrics for Roberta models on sorted data.\",\n",
    "           \"eval_notes\": \"Evaluating both gossipcop and poltifact data\",\n",
    "           \"model\": \"Ten-epoch Roberta models, one trained on gossipcop, other on politifact\",\n",
    "           \"Date_evaluated\": \"30Nov2020\",\n",
    "           \"accuracy\": accuracy,\n",
    "           \"precision\": precision,\n",
    "           \"recall\": recall,\n",
    "           \"f1\": f1}\n",
    "metrics"
   ]
  },
  {
   "cell_type": "code",
   "execution_count": 16,
   "metadata": {},
   "outputs": [],
   "source": [
    "# Save metrics to JSON text file.\n",
    "with open(\"eval_metrics_ALL.json\", \"wt\") as jfile:\n",
    "    json.dump(metrics, jfile)"
   ]
  },
  {
   "cell_type": "code",
   "execution_count": 19,
   "metadata": {},
   "outputs": [
    {
     "data": {
      "text/html": [
       "<div>\n",
       "<style scoped>\n",
       "    .dataframe tbody tr th:only-of-type {\n",
       "        vertical-align: middle;\n",
       "    }\n",
       "\n",
       "    .dataframe tbody tr th {\n",
       "        vertical-align: top;\n",
       "    }\n",
       "\n",
       "    .dataframe thead th {\n",
       "        text-align: right;\n",
       "    }\n",
       "</style>\n",
       "<table border=\"1\" class=\"dataframe\">\n",
       "  <thead>\n",
       "    <tr style=\"text-align: right;\">\n",
       "      <th></th>\n",
       "      <th>real</th>\n",
       "      <th>fake</th>\n",
       "    </tr>\n",
       "  </thead>\n",
       "  <tbody>\n",
       "    <tr>\n",
       "      <th>real</th>\n",
       "      <td>2500</td>\n",
       "      <td>230</td>\n",
       "    </tr>\n",
       "    <tr>\n",
       "      <th>fake</th>\n",
       "      <td>296</td>\n",
       "      <td>634</td>\n",
       "    </tr>\n",
       "  </tbody>\n",
       "</table>\n",
       "</div>"
      ],
      "text/plain": [
       "      real  fake\n",
       "real  2500   230\n",
       "fake   296   634"
      ]
     },
     "execution_count": 19,
     "metadata": {},
     "output_type": "execute_result"
    }
   ],
   "source": [
    "cm = pd.DataFrame(sklearn.metrics.confusion_matrix(all_df.Labels, all_df.Predictions))\n",
    "label_titles = {0: \"real\", 1: \"fake\"}\n",
    "cm.rename(index=label_titles, columns=label_titles, inplace=True)\n",
    "cm"
   ]
  },
  {
   "cell_type": "code",
   "execution_count": null,
   "metadata": {},
   "outputs": [],
   "source": []
  }
 ],
 "metadata": {
  "kernelspec": {
   "display_name": "Python 3",
   "language": "python",
   "name": "python3"
  },
  "language_info": {
   "codemirror_mode": {
    "name": "ipython",
    "version": 3
   },
   "file_extension": ".py",
   "mimetype": "text/x-python",
   "name": "python",
   "nbconvert_exporter": "python",
   "pygments_lexer": "ipython3",
   "version": "3.8.5"
  }
 },
 "nbformat": 4,
 "nbformat_minor": 4
}
