{
 "cells": [
  {
   "cell_type": "markdown",
   "metadata": {},
   "source": [
    "# Encode Test Data with Distilbert Tokenizer\n",
    "#### No Titles"
   ]
  },
  {
   "cell_type": "code",
   "execution_count": 1,
   "metadata": {},
   "outputs": [],
   "source": [
    "import pickle\n",
    "import sys\n",
    "\n",
    "import numpy as np\n",
    "\n",
    "import transformers as hft\n",
    "import torch\n",
    "import torch.utils.data as tudata\n",
    "\n",
    "sys.path.insert(0, '/home/jupyter')\n",
    "import util.data"
   ]
  },
  {
   "cell_type": "code",
   "execution_count": 2,
   "metadata": {},
   "outputs": [],
   "source": [
    "DATA_PATH = r\"../../data/FakeNewsNet/fnndata/\"\n",
    "MODEL_NAME = \"distilbert-base-uncased\"\n",
    "DATASET_FILE_LABEL = \"test_dataset_all_titles_29Nov_distilbert\""
   ]
  },
  {
   "cell_type": "code",
   "execution_count": 3,
   "metadata": {},
   "outputs": [],
   "source": [
    "tokenizer = hft.DistilBertTokenizerFast.from_pretrained(\n",
    "    MODEL_NAME, return_dict=True)"
   ]
  },
  {
   "cell_type": "code",
   "execution_count": 4,
   "metadata": {},
   "outputs": [
    {
     "name": "stderr",
     "output_type": "stream",
     "text": [
      "gossipcop:real: 3013it [00:00, 6495.56it/s]\n",
      "gossipcop:fake: 949it [00:00, 6328.25it/s]\n",
      "politifact:real: 92it [00:00, 2514.13it/s]\n",
      "politifact:fake: 73it [00:00, 7715.75it/s]\n"
     ]
    }
   ],
   "source": [
    "test_data = util.data.load_full_data(\n",
    "    data_path=DATA_PATH, test=True, min_char=500,\n",
    "    datasets=[\"gossipcop\",\"politifact\"])"
   ]
  },
  {
   "cell_type": "code",
   "execution_count": 5,
   "metadata": {},
   "outputs": [],
   "source": [
    "test_dataset = util.data.FNDataset(test_data, tokenizer,\n",
    "                                   titles=True)"
   ]
  },
  {
   "cell_type": "code",
   "execution_count": 6,
   "metadata": {},
   "outputs": [],
   "source": [
    "with open(DATASET_FILE_LABEL + \".pickle\", \"wb\") as pfile:\n",
    "    pickle.dump(test_dataset, pfile)"
   ]
  },
  {
   "cell_type": "code",
   "execution_count": null,
   "metadata": {},
   "outputs": [],
   "source": []
  }
 ],
 "metadata": {
  "kernelspec": {
   "display_name": "Python 3",
   "language": "python",
   "name": "python3"
  },
  "language_info": {
   "codemirror_mode": {
    "name": "ipython",
    "version": 3
   },
   "file_extension": ".py",
   "mimetype": "text/x-python",
   "name": "python",
   "nbconvert_exporter": "python",
   "pygments_lexer": "ipython3",
   "version": "3.8.5"
  }
 },
 "nbformat": 4,
 "nbformat_minor": 4
}
