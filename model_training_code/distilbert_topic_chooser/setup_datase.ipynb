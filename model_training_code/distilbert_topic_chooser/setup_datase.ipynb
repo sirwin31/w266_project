{
 "cells": [
  {
   "cell_type": "markdown",
   "metadata": {},
   "source": [
    "# Setup Topic Chooser Dataset"
   ]
  },
  {
   "cell_type": "code",
   "execution_count": 15,
   "metadata": {},
   "outputs": [],
   "source": [
    "# import pathlib\n",
    "import pickle\n",
    "import sys\n",
    "# import time\n",
    "\n",
    "# import numpy as np\n",
    "# from sklearn.model_selection import train_test_split\n",
    "\n",
    "# from tqdm import tqdm\n",
    "# import transformers as hft\n",
    "import torch\n",
    "# import torch.utils.data as tudata\n",
    "\n",
    "sys.path.insert(0, '/home/jupyter')\n",
    "import util.data"
   ]
  },
  {
   "cell_type": "code",
   "execution_count": 1,
   "metadata": {},
   "outputs": [],
   "source": [
    "TRAIN_DATA = \"train_dataset_25Nov_gcpf_distilbert.pickle\"\n",
    "VAL_DATA = \"val_dataset_25Nov_gcpf_distilbert.pickle\""
   ]
  },
  {
   "cell_type": "code",
   "execution_count": 6,
   "metadata": {},
   "outputs": [],
   "source": [
    "with open(TRAIN_DATA, \"rb\") as dfile: \n",
    "    train_data_fake = pickle.load(dfile)"
   ]
  },
  {
   "cell_type": "code",
   "execution_count": 7,
   "metadata": {},
   "outputs": [],
   "source": [
    "with open(VAL_DATA, \"rb\") as dfile: \n",
    "    val_data_fake = pickle.load(dfile)"
   ]
  },
  {
   "cell_type": "code",
   "execution_count": 13,
   "metadata": {},
   "outputs": [],
   "source": [
    "def datasetFN_set_labels_to_source(dataset):\n",
    "    dataset.fake_labels = torch.tensor(dataset.labels)\n",
    "    dataset.labels = torch.tensor([1 if x == \"politifact\" else 0 for x in dataset.sources])\n",
    "    return dataset"
   ]
  },
  {
   "cell_type": "code",
   "execution_count": 16,
   "metadata": {},
   "outputs": [],
   "source": [
    "train_data = datasetFN_set_labels_to_source(train_data_fake)"
   ]
  },
  {
   "cell_type": "code",
   "execution_count": 19,
   "metadata": {},
   "outputs": [],
   "source": [
    "val_data = datasetFN_set_labels_to_source(val_data_fake)"
   ]
  },
  {
   "cell_type": "code",
   "execution_count": 21,
   "metadata": {},
   "outputs": [],
   "source": [
    "with open(f\"train_dataset_25Nov_source_distilbert.pickle\", \"wb\") as pfile:\n",
    "    pickle.dump(train_data, pfile)\n",
    "with open(f\"val_dataset_25Nov_source_distilbert.pickle\", \"wb\") as pfile:\n",
    "    pickle.dump(val_data, pfile)"
   ]
  },
  {
   "cell_type": "code",
   "execution_count": 10,
   "metadata": {},
   "outputs": [],
   "source": [
    "with open(f\"train_dataset_{ENCODINGS_FILE_LABEL}.pickle\", \"rb\") as pfile:\n",
    "    train_dataset = pickle.load(pfile)\n",
    "with open(f\"val_dataset_{ENCODINGS_FILE_LABEL}.pickle\", \"rb\") as pfile:\n",
    "    val_dataset = pickle.load(pfile)"
   ]
  },
  {
   "cell_type": "code",
   "execution_count": null,
   "metadata": {},
   "outputs": [],
   "source": []
  }
 ],
 "metadata": {
  "kernelspec": {
   "display_name": "Python 3",
   "language": "python",
   "name": "python3"
  },
  "language_info": {
   "codemirror_mode": {
    "name": "ipython",
    "version": 3
   },
   "file_extension": ".py",
   "mimetype": "text/x-python",
   "name": "python",
   "nbconvert_exporter": "python",
   "pygments_lexer": "ipython3",
   "version": "3.8.5"
  }
 },
 "nbformat": 4,
 "nbformat_minor": 4
}
