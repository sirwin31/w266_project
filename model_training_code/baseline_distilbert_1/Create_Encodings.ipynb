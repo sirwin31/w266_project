{
 "cells": [
  {
   "cell_type": "markdown",
   "metadata": {},
   "source": [
    "# Encode Data with Distilbert Tokenizer"
   ]
  },
  {
   "cell_type": "code",
   "execution_count": 10,
   "metadata": {},
   "outputs": [],
   "source": [
    "import pathlib\n",
    "import pickle\n",
    "import sys\n",
    "import time\n",
    "\n",
    "import numpy as np\n",
    "from sklearn.model_selection import train_test_split\n",
    "\n",
    "from tqdm import tqdm\n",
    "import transformers as hft\n",
    "import torch\n",
    "import torch.utils.data as tudata\n",
    "\n",
    "sys.path.insert(0, '/home/jupyter')\n",
    "import util.data"
   ]
  },
  {
   "cell_type": "code",
   "execution_count": 5,
   "metadata": {},
   "outputs": [],
   "source": [
    "DATA_PATH = r\"../../../data/FakeNewsNet/filtered_dataset/\"\n",
    "MODEL_NAME = \"distilbert-base-uncased\"\n",
    "ENCODINGS_FILE_LABEL = \"23Nov_gcpf_distilbert\""
   ]
  },
  {
   "cell_type": "code",
   "execution_count": 6,
   "metadata": {},
   "outputs": [],
   "source": [
    "tokenizer = hft.DistilBertTokenizerFast.from_pretrained(\n",
    "    MODEL_NAME, return_dict=True)"
   ]
  },
  {
   "cell_type": "code",
   "execution_count": 7,
   "metadata": {},
   "outputs": [
    {
     "name": "stderr",
     "output_type": "stream",
     "text": [
      "gossipcop_train:real: 10652it [00:00, 18221.37it/s]\n",
      "gossipcop_train:fake: 3459it [00:00, 18150.66it/s]\n",
      "politifact_train:real: 283it [00:00, 12652.43it/s]\n",
      "politifact_train:fake: 255it [00:00, 15785.28it/s]\n"
     ]
    }
   ],
   "source": [
    "texts, labels = util.data.load(\n",
    "    path=DATA_PATH,\n",
    "    datasets=[\"gossipcop\",\"politifact\"])"
   ]
  },
  {
   "cell_type": "code",
   "execution_count": 8,
   "metadata": {},
   "outputs": [
    {
     "name": "stdout",
     "output_type": "stream",
     "text": [
      "gossipcop_test_real: 2661\n",
      "gossipcop_test_fake: 875\n",
      "politifact_train_real: 283\n",
      "politifact_train_fake: 255\n",
      "gossipcop_train_real: 10652\n",
      "gossipcop_train_fake: 3459\n",
      "politifact_test_real: 69\n",
      "politifact_test_fake: 57\n"
     ]
    }
   ],
   "source": [
    "util.data.get_size(path=DATA_PATH)"
   ]
  },
  {
   "cell_type": "code",
   "execution_count": 11,
   "metadata": {},
   "outputs": [],
   "source": [
    "train_texts, val_texts, train_labels, val_labels = (\n",
    "    train_test_split(texts, labels, test_size=0.25))"
   ]
  },
  {
   "cell_type": "code",
   "execution_count": 12,
   "metadata": {},
   "outputs": [],
   "source": [
    "train_encodings = tokenizer(train_texts, truncation=True, padding=True, return_tensors=\"pt\")"
   ]
  },
  {
   "cell_type": "code",
   "execution_count": 13,
   "metadata": {},
   "outputs": [],
   "source": [
    "val_encodings = tokenizer(val_texts, truncation=True, padding=True, return_tensors=\"pt\")"
   ]
  },
  {
   "cell_type": "code",
   "execution_count": 14,
   "metadata": {},
   "outputs": [],
   "source": [
    "with open(f\"train_encodings_{ENCODINGS_FILE_LABEL}.pickle\", \"wb\") as pfile:\n",
    "    pickle.dump((train_encodings, train_labels), pfile)\n",
    "with open(f\"val_encodings_{ENCODINGS_FILE_LABEL}.pickle\", \"wb\") as pfile:\n",
    "    pickle.dump((val_encodings, val_labels), pfile)"
   ]
  },
  {
   "cell_type": "code",
   "execution_count": 15,
   "metadata": {},
   "outputs": [],
   "source": [
    "with open(f\"train_encodings_{ENCODINGS_FILE_LABEL}.pickle\", \"rb\") as pfile:\n",
    "    train_encodings, train_labels = pickle.load(pfile)\n",
    "with open(f\"val_encodings_{ENCODINGS_FILE_LABEL}.pickle\", \"rb\") as pfile:\n",
    "    val_encodings, val_labels = pickle.load(pfile)"
   ]
  },
  {
   "cell_type": "code",
   "execution_count": 16,
   "metadata": {},
   "outputs": [
    {
     "data": {
      "text/plain": [
       "10986"
      ]
     },
     "execution_count": 16,
     "metadata": {},
     "output_type": "execute_result"
    }
   ],
   "source": [
    "len(train_encodings[\"input_ids\"])"
   ]
  },
  {
   "cell_type": "code",
   "execution_count": 17,
   "metadata": {},
   "outputs": [
    {
     "data": {
      "text/plain": [
       "10986"
      ]
     },
     "execution_count": 17,
     "metadata": {},
     "output_type": "execute_result"
    }
   ],
   "source": [
    "len(train_labels)"
   ]
  },
  {
   "cell_type": "code",
   "execution_count": 18,
   "metadata": {},
   "outputs": [
    {
     "data": {
      "text/plain": [
       "3663"
      ]
     },
     "execution_count": 18,
     "metadata": {},
     "output_type": "execute_result"
    }
   ],
   "source": [
    "len(val_encodings[\"input_ids\"])"
   ]
  },
  {
   "cell_type": "code",
   "execution_count": 19,
   "metadata": {},
   "outputs": [
    {
     "data": {
      "text/plain": [
       "3663"
      ]
     },
     "execution_count": 19,
     "metadata": {},
     "output_type": "execute_result"
    }
   ],
   "source": [
    "len(val_labels)"
   ]
  }
 ],
 "metadata": {
  "kernelspec": {
   "display_name": "Python 3",
   "language": "python",
   "name": "python3"
  },
  "language_info": {
   "codemirror_mode": {
    "name": "ipython",
    "version": 3
   },
   "file_extension": ".py",
   "mimetype": "text/x-python",
   "name": "python",
   "nbconvert_exporter": "python",
   "pygments_lexer": "ipython3",
   "version": "3.8.5"
  }
 },
 "nbformat": 4,
 "nbformat_minor": 4
}
