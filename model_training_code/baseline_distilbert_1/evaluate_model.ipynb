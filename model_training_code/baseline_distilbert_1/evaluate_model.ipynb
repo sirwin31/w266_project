{
 "cells": [
  {
   "cell_type": "markdown",
   "metadata": {},
   "source": [
    "# Evaulate Distilbert Model"
   ]
  },
  {
   "cell_type": "code",
   "execution_count": 20,
   "metadata": {},
   "outputs": [],
   "source": [
    "import json\n",
    "import pickle\n",
    "import sys\n",
    "\n",
    "import pandas as pd\n",
    "import sklearn.metrics\n",
    "import tqdm\n",
    "import torch\n",
    "import transformers as hft\n",
    "\n",
    "sys.path.insert(0, \"/home/jupyter\")\n",
    "import util.log\n",
    "import util.data"
   ]
  },
  {
   "cell_type": "code",
   "execution_count": 2,
   "metadata": {},
   "outputs": [],
   "source": [
    "MODEL_NAME = \"distilbert-base-uncased\"\n",
    "MODEL_FILE =\"saved_model_epoch10_20201128_2225.tar\"\n",
    "VAL_ENCODINGS = \"val_encodings_23Nov_gcpf_distilbert.pickle\"\n",
    "EVAL_BATCH_SIZE = 16\n",
    "\n",
    "DESCRIPTION = \"Distilbert trained on politifact and gossipcop training data.\""
   ]
  },
  {
   "cell_type": "code",
   "execution_count": 3,
   "metadata": {},
   "outputs": [
    {
     "name": "stdout",
     "output_type": "stream",
     "text": [
      "3663\n"
     ]
    }
   ],
   "source": [
    "eval_dataset = util.data.load_dataset_from_path(VAL_ENCODINGS)\n",
    "print(len(eval_dataset))"
   ]
  },
  {
   "cell_type": "code",
   "execution_count": 4,
   "metadata": {},
   "outputs": [
    {
     "data": {
      "text/plain": [
       "device(type='cuda')"
      ]
     },
     "execution_count": 4,
     "metadata": {},
     "output_type": "execute_result"
    }
   ],
   "source": [
    "device = (torch.device('cuda') if torch.cuda.is_available()\n",
    "          else torch.device('cpu'))\n",
    "device"
   ]
  },
  {
   "cell_type": "code",
   "execution_count": 5,
   "metadata": {},
   "outputs": [],
   "source": [
    "checkpoint = torch.load(MODEL_FILE, device)"
   ]
  },
  {
   "cell_type": "code",
   "execution_count": 6,
   "metadata": {},
   "outputs": [
    {
     "name": "stderr",
     "output_type": "stream",
     "text": [
      "Some weights of the model checkpoint at distilbert-base-uncased were not used when initializing DistilBertForSequenceClassification: ['vocab_transform.weight', 'vocab_transform.bias', 'vocab_layer_norm.weight', 'vocab_layer_norm.bias', 'vocab_projector.weight', 'vocab_projector.bias']\n",
      "- This IS expected if you are initializing DistilBertForSequenceClassification from the checkpoint of a model trained on another task or with another architecture (e.g. initializing a BertForSequenceClassification model from a BertForPreTraining model).\n",
      "- This IS NOT expected if you are initializing DistilBertForSequenceClassification from the checkpoint of a model that you expect to be exactly identical (initializing a BertForSequenceClassification model from a BertForSequenceClassification model).\n",
      "Some weights of DistilBertForSequenceClassification were not initialized from the model checkpoint at distilbert-base-uncased and are newly initialized: ['pre_classifier.weight', 'pre_classifier.bias', 'classifier.weight', 'classifier.bias']\n",
      "You should probably TRAIN this model on a down-stream task to be able to use it for predictions and inference.\n"
     ]
    }
   ],
   "source": [
    "model = (hft.DistilBertForSequenceClassification\n",
    "         .from_pretrained(MODEL_NAME))"
   ]
  },
  {
   "cell_type": "code",
   "execution_count": 7,
   "metadata": {},
   "outputs": [
    {
     "data": {
      "text/plain": [
       "<All keys matched successfully>"
      ]
     },
     "execution_count": 7,
     "metadata": {},
     "output_type": "execute_result"
    }
   ],
   "source": [
    "model.load_state_dict(checkpoint[\"model\"])"
   ]
  },
  {
   "cell_type": "code",
   "execution_count": 8,
   "metadata": {},
   "outputs": [],
   "source": [
    "model.to(device)\n",
    "model.eval();"
   ]
  },
  {
   "cell_type": "code",
   "execution_count": 9,
   "metadata": {},
   "outputs": [],
   "source": [
    "eval_loader = torch.utils.data.DataLoader(eval_dataset,\n",
    "                                batch_size=EVAL_BATCH_SIZE,\n",
    "                                shuffle=False)"
   ]
  },
  {
   "cell_type": "code",
   "execution_count": 10,
   "metadata": {},
   "outputs": [
    {
     "name": "stderr",
     "output_type": "stream",
     "text": [
      "229it [00:36,  6.35it/s]\n"
     ]
    }
   ],
   "source": [
    "labels = []\n",
    "preds = []\n",
    "logits = []\n",
    "with torch.no_grad():\n",
    "    for art_num, article in tqdm.tqdm(enumerate(eval_loader)):\n",
    "        input_ids = article[\"input_ids\"].to(device)\n",
    "        attent_mask = article[\"attention_mask\"].to(device)\n",
    "        output = model(input_ids,\n",
    "                       attention_mask=attent_mask,\n",
    "                       output_hidden_states=False,\n",
    "                       output_attentions=False)\n",
    "        logit = output[0].detach().cpu().numpy()\n",
    "        pred = [0 if lgt[0] > lgt[1] else 1 for lgt in logit]\n",
    "        label = article[\"labels\"].numpy()\n",
    "        labels.extend(label)\n",
    "        preds.extend(pred)\n",
    "        logits.extend(logit)"
   ]
  },
  {
   "cell_type": "code",
   "execution_count": 11,
   "metadata": {},
   "outputs": [],
   "source": [
    "# Label of 0 is real, 1 is fake\n",
    "eval_results = pd.DataFrame({\"Article\": list(range(len(labels))),\n",
    "                             \"Predictions\": preds,\n",
    "                             \"Labels\": labels,\n",
    "                             \"Logit_real(0)\": [x[0] for x in logits],\n",
    "                             \"Logit_fake(1)\": [x[1] for x in logits]})"
   ]
  },
  {
   "cell_type": "code",
   "execution_count": 12,
   "metadata": {},
   "outputs": [
    {
     "data": {
      "text/html": [
       "<div>\n",
       "<style scoped>\n",
       "    .dataframe tbody tr th:only-of-type {\n",
       "        vertical-align: middle;\n",
       "    }\n",
       "\n",
       "    .dataframe tbody tr th {\n",
       "        vertical-align: top;\n",
       "    }\n",
       "\n",
       "    .dataframe thead th {\n",
       "        text-align: right;\n",
       "    }\n",
       "</style>\n",
       "<table border=\"1\" class=\"dataframe\">\n",
       "  <thead>\n",
       "    <tr style=\"text-align: right;\">\n",
       "      <th></th>\n",
       "      <th>Article</th>\n",
       "      <th>Predictions</th>\n",
       "      <th>Labels</th>\n",
       "      <th>Logit_real(0)</th>\n",
       "      <th>Logit_fake(1)</th>\n",
       "    </tr>\n",
       "  </thead>\n",
       "  <tbody>\n",
       "    <tr>\n",
       "      <th>0</th>\n",
       "      <td>0</td>\n",
       "      <td>0</td>\n",
       "      <td>0</td>\n",
       "      <td>2.850009</td>\n",
       "      <td>-3.273690</td>\n",
       "    </tr>\n",
       "    <tr>\n",
       "      <th>1</th>\n",
       "      <td>1</td>\n",
       "      <td>0</td>\n",
       "      <td>0</td>\n",
       "      <td>0.377962</td>\n",
       "      <td>-0.371999</td>\n",
       "    </tr>\n",
       "    <tr>\n",
       "      <th>2</th>\n",
       "      <td>2</td>\n",
       "      <td>0</td>\n",
       "      <td>0</td>\n",
       "      <td>2.692442</td>\n",
       "      <td>-3.026399</td>\n",
       "    </tr>\n",
       "    <tr>\n",
       "      <th>3</th>\n",
       "      <td>3</td>\n",
       "      <td>0</td>\n",
       "      <td>0</td>\n",
       "      <td>2.985261</td>\n",
       "      <td>-3.340193</td>\n",
       "    </tr>\n",
       "    <tr>\n",
       "      <th>4</th>\n",
       "      <td>4</td>\n",
       "      <td>1</td>\n",
       "      <td>1</td>\n",
       "      <td>-3.186574</td>\n",
       "      <td>3.877971</td>\n",
       "    </tr>\n",
       "    <tr>\n",
       "      <th>...</th>\n",
       "      <td>...</td>\n",
       "      <td>...</td>\n",
       "      <td>...</td>\n",
       "      <td>...</td>\n",
       "      <td>...</td>\n",
       "    </tr>\n",
       "    <tr>\n",
       "      <th>3658</th>\n",
       "      <td>3658</td>\n",
       "      <td>1</td>\n",
       "      <td>1</td>\n",
       "      <td>-3.505335</td>\n",
       "      <td>4.226383</td>\n",
       "    </tr>\n",
       "    <tr>\n",
       "      <th>3659</th>\n",
       "      <td>3659</td>\n",
       "      <td>0</td>\n",
       "      <td>0</td>\n",
       "      <td>1.093364</td>\n",
       "      <td>-1.092360</td>\n",
       "    </tr>\n",
       "    <tr>\n",
       "      <th>3660</th>\n",
       "      <td>3660</td>\n",
       "      <td>1</td>\n",
       "      <td>1</td>\n",
       "      <td>-3.459407</td>\n",
       "      <td>4.121661</td>\n",
       "    </tr>\n",
       "    <tr>\n",
       "      <th>3661</th>\n",
       "      <td>3661</td>\n",
       "      <td>1</td>\n",
       "      <td>1</td>\n",
       "      <td>-2.985819</td>\n",
       "      <td>3.614302</td>\n",
       "    </tr>\n",
       "    <tr>\n",
       "      <th>3662</th>\n",
       "      <td>3662</td>\n",
       "      <td>0</td>\n",
       "      <td>0</td>\n",
       "      <td>2.538603</td>\n",
       "      <td>-2.706311</td>\n",
       "    </tr>\n",
       "  </tbody>\n",
       "</table>\n",
       "<p>3663 rows × 5 columns</p>\n",
       "</div>"
      ],
      "text/plain": [
       "      Article  Predictions  Labels  Logit_real(0)  Logit_fake(1)\n",
       "0           0            0       0       2.850009      -3.273690\n",
       "1           1            0       0       0.377962      -0.371999\n",
       "2           2            0       0       2.692442      -3.026399\n",
       "3           3            0       0       2.985261      -3.340193\n",
       "4           4            1       1      -3.186574       3.877971\n",
       "...       ...          ...     ...            ...            ...\n",
       "3658     3658            1       1      -3.505335       4.226383\n",
       "3659     3659            0       0       1.093364      -1.092360\n",
       "3660     3660            1       1      -3.459407       4.121661\n",
       "3661     3661            1       1      -2.985819       3.614302\n",
       "3662     3662            0       0       2.538603      -2.706311\n",
       "\n",
       "[3663 rows x 5 columns]"
      ]
     },
     "execution_count": 12,
     "metadata": {},
     "output_type": "execute_result"
    }
   ],
   "source": [
    "eval_results"
   ]
  },
  {
   "cell_type": "code",
   "execution_count": 13,
   "metadata": {},
   "outputs": [
    {
     "data": {
      "text/html": [
       "<div>\n",
       "<style scoped>\n",
       "    .dataframe tbody tr th:only-of-type {\n",
       "        vertical-align: middle;\n",
       "    }\n",
       "\n",
       "    .dataframe tbody tr th {\n",
       "        vertical-align: top;\n",
       "    }\n",
       "\n",
       "    .dataframe thead th {\n",
       "        text-align: right;\n",
       "    }\n",
       "</style>\n",
       "<table border=\"1\" class=\"dataframe\">\n",
       "  <thead>\n",
       "    <tr style=\"text-align: right;\">\n",
       "      <th></th>\n",
       "      <th>Article</th>\n",
       "      <th>Predictions</th>\n",
       "      <th>Labels</th>\n",
       "      <th>Logit_real(0)</th>\n",
       "      <th>Logit_fake(1)</th>\n",
       "    </tr>\n",
       "  </thead>\n",
       "  <tbody>\n",
       "    <tr>\n",
       "      <th>4</th>\n",
       "      <td>4</td>\n",
       "      <td>1</td>\n",
       "      <td>1</td>\n",
       "      <td>-3.186574</td>\n",
       "      <td>3.877971</td>\n",
       "    </tr>\n",
       "    <tr>\n",
       "      <th>5</th>\n",
       "      <td>5</td>\n",
       "      <td>1</td>\n",
       "      <td>1</td>\n",
       "      <td>-0.311678</td>\n",
       "      <td>0.443620</td>\n",
       "    </tr>\n",
       "    <tr>\n",
       "      <th>24</th>\n",
       "      <td>24</td>\n",
       "      <td>1</td>\n",
       "      <td>1</td>\n",
       "      <td>-0.552113</td>\n",
       "      <td>0.699427</td>\n",
       "    </tr>\n",
       "    <tr>\n",
       "      <th>28</th>\n",
       "      <td>28</td>\n",
       "      <td>1</td>\n",
       "      <td>0</td>\n",
       "      <td>-1.277365</td>\n",
       "      <td>1.526949</td>\n",
       "    </tr>\n",
       "    <tr>\n",
       "      <th>32</th>\n",
       "      <td>32</td>\n",
       "      <td>1</td>\n",
       "      <td>1</td>\n",
       "      <td>-3.702299</td>\n",
       "      <td>4.498945</td>\n",
       "    </tr>\n",
       "    <tr>\n",
       "      <th>...</th>\n",
       "      <td>...</td>\n",
       "      <td>...</td>\n",
       "      <td>...</td>\n",
       "      <td>...</td>\n",
       "      <td>...</td>\n",
       "    </tr>\n",
       "    <tr>\n",
       "      <th>3648</th>\n",
       "      <td>3648</td>\n",
       "      <td>1</td>\n",
       "      <td>1</td>\n",
       "      <td>-2.688560</td>\n",
       "      <td>3.180310</td>\n",
       "    </tr>\n",
       "    <tr>\n",
       "      <th>3649</th>\n",
       "      <td>3649</td>\n",
       "      <td>1</td>\n",
       "      <td>1</td>\n",
       "      <td>-2.844619</td>\n",
       "      <td>3.345943</td>\n",
       "    </tr>\n",
       "    <tr>\n",
       "      <th>3658</th>\n",
       "      <td>3658</td>\n",
       "      <td>1</td>\n",
       "      <td>1</td>\n",
       "      <td>-3.505335</td>\n",
       "      <td>4.226383</td>\n",
       "    </tr>\n",
       "    <tr>\n",
       "      <th>3660</th>\n",
       "      <td>3660</td>\n",
       "      <td>1</td>\n",
       "      <td>1</td>\n",
       "      <td>-3.459407</td>\n",
       "      <td>4.121661</td>\n",
       "    </tr>\n",
       "    <tr>\n",
       "      <th>3661</th>\n",
       "      <td>3661</td>\n",
       "      <td>1</td>\n",
       "      <td>1</td>\n",
       "      <td>-2.985819</td>\n",
       "      <td>3.614302</td>\n",
       "    </tr>\n",
       "  </tbody>\n",
       "</table>\n",
       "<p>786 rows × 5 columns</p>\n",
       "</div>"
      ],
      "text/plain": [
       "      Article  Predictions  Labels  Logit_real(0)  Logit_fake(1)\n",
       "4           4            1       1      -3.186574       3.877971\n",
       "5           5            1       1      -0.311678       0.443620\n",
       "24         24            1       1      -0.552113       0.699427\n",
       "28         28            1       0      -1.277365       1.526949\n",
       "32         32            1       1      -3.702299       4.498945\n",
       "...       ...          ...     ...            ...            ...\n",
       "3648     3648            1       1      -2.688560       3.180310\n",
       "3649     3649            1       1      -2.844619       3.345943\n",
       "3658     3658            1       1      -3.505335       4.226383\n",
       "3660     3660            1       1      -3.459407       4.121661\n",
       "3661     3661            1       1      -2.985819       3.614302\n",
       "\n",
       "[786 rows x 5 columns]"
      ]
     },
     "execution_count": 13,
     "metadata": {},
     "output_type": "execute_result"
    }
   ],
   "source": [
    "eval_results.query(\"Predictions == 1\")"
   ]
  },
  {
   "cell_type": "code",
   "execution_count": 14,
   "metadata": {},
   "outputs": [
    {
     "name": "stdout",
     "output_type": "stream",
     "text": [
      "2.850008726119995 -3.2736902236938477\n",
      "0.37796199321746826 -0.3719988465309143\n",
      "2.6924424171447754 -3.0263993740081787\n",
      "2.9852609634399414 -3.3401927947998047\n",
      "-3.1865742206573486 3.8779709339141846\n",
      "-0.31167763471603394 0.44361987709999084\n",
      "0.3588881194591522 -0.2540079653263092\n",
      "3.916956901550293 -4.597268581390381\n",
      "1.934731364250183 -2.0337040424346924\n",
      "2.6825239658355713 -2.98710036277771\n",
      "3.9099483489990234 -4.566473484039307\n",
      "3.1525959968566895 -3.4811224937438965\n",
      "3.0261616706848145 -3.4413564205169678\n",
      "3.5827066898345947 -4.13591194152832\n",
      "3.302001714706421 -3.752885103225708\n",
      "0.9585110545158386 -1.0261831283569336\n",
      "3.839869499206543 -4.504690170288086\n",
      "2.9708428382873535 -3.3438961505889893\n",
      "3.9053101539611816 -4.5931596755981445\n",
      "3.6977710723876953 -4.349445819854736\n",
      "3.741704225540161 -4.385188579559326\n",
      "3.497767686843872 -4.073032379150391\n",
      "3.405294179916382 -3.961172580718994\n",
      "1.3517165184020996 -1.5384490489959717\n",
      "-0.5521133542060852 0.6994267106056213\n"
     ]
    }
   ],
   "source": [
    "for x in range(0, 25):\n",
    "    print(eval_results[\"Logit_real(0)\"][x], eval_results[\"Logit_fake(1)\"][x])"
   ]
  },
  {
   "cell_type": "code",
   "execution_count": 15,
   "metadata": {},
   "outputs": [],
   "source": [
    "precision, recall, f1, _ = sklearn.metrics.precision_recall_fscore_support(\n",
    "    labels, preds, average=\"binary\")\n",
    "accuracy = sklearn.metrics.accuracy_score(labels, preds)"
   ]
  },
  {
   "cell_type": "code",
   "execution_count": 16,
   "metadata": {},
   "outputs": [],
   "source": [
    "metrics = {\"description\": DESCRIPTION,\n",
    "           \"model\": MODEL_FILE,\n",
    "           \"epochs\": checkpoint[\"epoch\"],\n",
    "           \"batch_size\": 32,\n",
    "           \"Date_evaluated\": \"23Nov2020\",\n",
    "           \"train_data\": \"train_encodings_23Nov_gcpf_distilbert_1000.pickle\",\n",
    "           \"eval_data\": VAL_ENCODINGS,\n",
    "           \"accuracy\": accuracy,\n",
    "           \"precision\": precision,\n",
    "           \"recall\": recall,\n",
    "           \"f1\": f1}"
   ]
  },
  {
   "cell_type": "code",
   "execution_count": 22,
   "metadata": {},
   "outputs": [
    {
     "data": {
      "text/plain": [
       "{'description': 'Distilbert trained on politifact and gossipcop training data.',\n",
       " 'model': 'saved_model_epoch10_20201128_2225.tar',\n",
       " 'epochs': 10,\n",
       " 'batch_size': 32,\n",
       " 'Date_evaluated': '23Nov2020',\n",
       " 'train_data': 'train_encodings_23Nov_gcpf_distilbert_1000.pickle',\n",
       " 'eval_data': 'val_encodings_23Nov_gcpf_distilbert.pickle',\n",
       " 'accuracy': 0.8542178542178542,\n",
       " 'precision': 0.7379134860050891,\n",
       " 'recall': 0.6387665198237885,\n",
       " 'f1': 0.6847697756788665}"
      ]
     },
     "execution_count": 22,
     "metadata": {},
     "output_type": "execute_result"
    }
   ],
   "source": [
    "metrics"
   ]
  },
  {
   "cell_type": "code",
   "execution_count": 24,
   "metadata": {},
   "outputs": [],
   "source": [
    "with open(\"evaluation_metrics_10_epochs.json\", \"wt\") as pfile:\n",
    "    json.dump(metrics, pfile)"
   ]
  },
  {
   "cell_type": "code",
   "execution_count": 25,
   "metadata": {},
   "outputs": [],
   "source": [
    "eval_results.to_csv(\"evaluation_results_10_epochs.csv\")    "
   ]
  },
  {
   "cell_type": "code",
   "execution_count": 19,
   "metadata": {},
   "outputs": [
    {
     "data": {
      "text/plain": [
       "908"
      ]
     },
     "execution_count": 19,
     "metadata": {},
     "output_type": "execute_result"
    }
   ],
   "source": [
    "sum(labels)"
   ]
  },
  {
   "cell_type": "code",
   "execution_count": null,
   "metadata": {},
   "outputs": [],
   "source": []
  }
 ],
 "metadata": {
  "kernelspec": {
   "display_name": "Python 3",
   "language": "python",
   "name": "python3"
  },
  "language_info": {
   "codemirror_mode": {
    "name": "ipython",
    "version": 3
   },
   "file_extension": ".py",
   "mimetype": "text/x-python",
   "name": "python",
   "nbconvert_exporter": "python",
   "pygments_lexer": "ipython3",
   "version": "3.8.5"
  }
 },
 "nbformat": 4,
 "nbformat_minor": 4
}
