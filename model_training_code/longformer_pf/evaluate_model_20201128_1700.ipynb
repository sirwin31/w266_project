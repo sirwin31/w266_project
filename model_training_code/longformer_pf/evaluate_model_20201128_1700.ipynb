{
 "cells": [
  {
   "cell_type": "markdown",
   "metadata": {},
   "source": [
    "# Evaulate Distilbert TopicChooser Model\n",
    "### 29 Nov 2020"
   ]
  },
  {
   "cell_type": "markdown",
   "metadata": {},
   "source": [
    "## I. Evaluation Parameters"
   ]
  },
  {
   "cell_type": "code",
   "execution_count": 1,
   "metadata": {},
   "outputs": [],
   "source": [
    "# Set Evaulation Parameters\n",
    "MODEL_NAME = \"allenai/longformer-base-4096\"\n",
    "MODEL_FILE =\"saved_model_epoch10_20201130_0855.tar\"\n",
    "VAL_DATASET = \"val_data_29Nov_longformer_pf.pickle\"\n",
    "EVAL_BATCH_SIZE = 8\n",
    "DESCRIPTION = \"PolitiFact only model\""
   ]
  },
  {
   "cell_type": "markdown",
   "metadata": {},
   "source": [
    "## II. Setup and Load Model"
   ]
  },
  {
   "cell_type": "code",
   "execution_count": 2,
   "metadata": {},
   "outputs": [],
   "source": [
    "import pickle\n",
    "import sys\n",
    "\n",
    "import json\n",
    "import pandas as pd\n",
    "import pickle\n",
    "import sklearn.metrics\n",
    "import tqdm\n",
    "import torch\n",
    "import transformers as hft\n",
    "\n",
    "sys.path.insert(0, \"/home/jupyter\")\n",
    "import util.log\n",
    "import util.data"
   ]
  },
  {
   "cell_type": "code",
   "execution_count": 3,
   "metadata": {},
   "outputs": [],
   "source": [
    "# Load evaluation data\n",
    "with open(VAL_DATASET, \"rb\") as vfile:\n",
    "    val_dataset = pickle.load(vfile)"
   ]
  },
  {
   "cell_type": "code",
   "execution_count": 4,
   "metadata": {},
   "outputs": [
    {
     "name": "stderr",
     "output_type": "stream",
     "text": [
      "Some weights of the model checkpoint at allenai/longformer-base-4096 were not used when initializing LongformerForSequenceClassification: ['lm_head.bias', 'lm_head.dense.weight', 'lm_head.dense.bias', 'lm_head.layer_norm.weight', 'lm_head.layer_norm.bias', 'lm_head.decoder.weight']\n",
      "- This IS expected if you are initializing LongformerForSequenceClassification from the checkpoint of a model trained on another task or with another architecture (e.g. initializing a BertForSequenceClassification model from a BertForPreTraining model).\n",
      "- This IS NOT expected if you are initializing LongformerForSequenceClassification from the checkpoint of a model that you expect to be exactly identical (initializing a BertForSequenceClassification model from a BertForSequenceClassification model).\n",
      "Some weights of LongformerForSequenceClassification were not initialized from the model checkpoint at allenai/longformer-base-4096 and are newly initialized: ['classifier.dense.weight', 'classifier.dense.bias', 'classifier.out_proj.weight', 'classifier.out_proj.bias']\n",
      "You should probably TRAIN this model on a down-stream task to be able to use it for predictions and inference.\n"
     ]
    },
    {
     "data": {
      "text/plain": [
       "<All keys matched successfully>"
      ]
     },
     "execution_count": 4,
     "metadata": {},
     "output_type": "execute_result"
    }
   ],
   "source": [
    "# Load saved model\n",
    "checkpoint = torch.load(MODEL_FILE)\n",
    "model = (hft.LongformerForSequenceClassification\n",
    "         .from_pretrained(MODEL_NAME))\n",
    "model.load_state_dict(checkpoint[\"model\"])"
   ]
  },
  {
   "cell_type": "code",
   "execution_count": 5,
   "metadata": {},
   "outputs": [
    {
     "data": {
      "text/plain": [
       "device(type='cuda')"
      ]
     },
     "execution_count": 5,
     "metadata": {},
     "output_type": "execute_result"
    }
   ],
   "source": [
    "# Move model to GPU if available\n",
    "device = (torch.device('cuda') if torch.cuda.is_available()\n",
    "          else torch.device('cpu'))\n",
    "model.to(device)\n",
    "model.eval();\n",
    "device"
   ]
  },
  {
   "cell_type": "markdown",
   "metadata": {},
   "source": [
    "## III. Evaluation Loop and Results Dataframe"
   ]
  },
  {
   "cell_type": "code",
   "execution_count": 6,
   "metadata": {},
   "outputs": [
    {
     "name": "stderr",
     "output_type": "stream",
     "text": [
      "17it [00:17,  1.06s/it]\n"
     ]
    }
   ],
   "source": [
    "# Evaulate model\n",
    "eval_loader = torch.utils.data.DataLoader(val_dataset,\n",
    "                                batch_size=EVAL_BATCH_SIZE,\n",
    "                                shuffle=False)\n",
    "labels = []\n",
    "preds = []\n",
    "logits = []\n",
    "probs = []\n",
    "sources = []\n",
    "article_tokens = []\n",
    "file_names = []\n",
    "\n",
    "softmax = torch.nn.Softmax(dim=1)\n",
    "\n",
    "with torch.no_grad():\n",
    "    for art_num, article in tqdm.tqdm(enumerate(eval_loader)):\n",
    "        input_ids = article[\"input_ids\"].to(device)\n",
    "        attent_mask = article[\"attention_mask\"].to(device)\n",
    "        output = model(input_ids,\n",
    "                       attention_mask=attent_mask,\n",
    "                       output_hidden_states=False,\n",
    "                       output_attentions=False)\n",
    "        prob = softmax(output[0].detach().cpu()).numpy()\n",
    "        logit = output[0].detach().cpu().numpy()\n",
    "        pred = [0 if lgt[0] > lgt[1] else 1 for lgt in logit]\n",
    "        label = article[\"labels\"].numpy()\n",
    "        labels.extend(label)\n",
    "        preds.extend(pred)\n",
    "        logits.extend(logit)\n",
    "        probs.extend(prob)\n",
    "        article_tokens.extend(article[\"article_tokens\"].numpy())\n",
    "        sources.extend(article[\"sources\"])\n",
    "        file_names.extend(article[\"file_names\"])"
   ]
  },
  {
   "cell_type": "code",
   "execution_count": 7,
   "metadata": {},
   "outputs": [
    {
     "data": {
      "text/html": [
       "<div>\n",
       "<style scoped>\n",
       "    .dataframe tbody tr th:only-of-type {\n",
       "        vertical-align: middle;\n",
       "    }\n",
       "\n",
       "    .dataframe tbody tr th {\n",
       "        vertical-align: top;\n",
       "    }\n",
       "\n",
       "    .dataframe thead th {\n",
       "        text-align: right;\n",
       "    }\n",
       "</style>\n",
       "<table border=\"1\" class=\"dataframe\">\n",
       "  <thead>\n",
       "    <tr style=\"text-align: right;\">\n",
       "      <th></th>\n",
       "      <th>Article</th>\n",
       "      <th>Source</th>\n",
       "      <th>Token_Length</th>\n",
       "      <th>Predictions</th>\n",
       "      <th>Labels</th>\n",
       "      <th>Logit_real(0)</th>\n",
       "      <th>Logit_fake(1)</th>\n",
       "      <th>Prob_real(0)</th>\n",
       "      <th>Prob_real(1)</th>\n",
       "      <th>File_Name</th>\n",
       "    </tr>\n",
       "  </thead>\n",
       "  <tbody>\n",
       "    <tr>\n",
       "      <th>0</th>\n",
       "      <td>0</td>\n",
       "      <td>politifact</td>\n",
       "      <td>429</td>\n",
       "      <td>0</td>\n",
       "      <td>0</td>\n",
       "      <td>4.000608</td>\n",
       "      <td>-3.126282</td>\n",
       "      <td>0.999197</td>\n",
       "      <td>0.000803</td>\n",
       "      <td>politifact13132</td>\n",
       "    </tr>\n",
       "    <tr>\n",
       "      <th>1</th>\n",
       "      <td>1</td>\n",
       "      <td>politifact</td>\n",
       "      <td>4579</td>\n",
       "      <td>0</td>\n",
       "      <td>0</td>\n",
       "      <td>4.025331</td>\n",
       "      <td>-3.151489</td>\n",
       "      <td>0.999236</td>\n",
       "      <td>0.000764</td>\n",
       "      <td>politifact348</td>\n",
       "    </tr>\n",
       "    <tr>\n",
       "      <th>2</th>\n",
       "      <td>2</td>\n",
       "      <td>politifact</td>\n",
       "      <td>574</td>\n",
       "      <td>1</td>\n",
       "      <td>1</td>\n",
       "      <td>-3.030061</td>\n",
       "      <td>2.121160</td>\n",
       "      <td>0.005759</td>\n",
       "      <td>0.994241</td>\n",
       "      <td>politifact13806</td>\n",
       "    </tr>\n",
       "    <tr>\n",
       "      <th>3</th>\n",
       "      <td>3</td>\n",
       "      <td>politifact</td>\n",
       "      <td>527</td>\n",
       "      <td>1</td>\n",
       "      <td>1</td>\n",
       "      <td>-3.756790</td>\n",
       "      <td>2.692146</td>\n",
       "      <td>0.001580</td>\n",
       "      <td>0.998420</td>\n",
       "      <td>politifact14954</td>\n",
       "    </tr>\n",
       "    <tr>\n",
       "      <th>4</th>\n",
       "      <td>4</td>\n",
       "      <td>politifact</td>\n",
       "      <td>481</td>\n",
       "      <td>0</td>\n",
       "      <td>0</td>\n",
       "      <td>4.177752</td>\n",
       "      <td>-3.228481</td>\n",
       "      <td>0.999393</td>\n",
       "      <td>0.000607</td>\n",
       "      <td>politifact1442</td>\n",
       "    </tr>\n",
       "    <tr>\n",
       "      <th>...</th>\n",
       "      <td>...</td>\n",
       "      <td>...</td>\n",
       "      <td>...</td>\n",
       "      <td>...</td>\n",
       "      <td>...</td>\n",
       "      <td>...</td>\n",
       "      <td>...</td>\n",
       "      <td>...</td>\n",
       "      <td>...</td>\n",
       "      <td>...</td>\n",
       "    </tr>\n",
       "    <tr>\n",
       "      <th>130</th>\n",
       "      <td>130</td>\n",
       "      <td>politifact</td>\n",
       "      <td>559</td>\n",
       "      <td>1</td>\n",
       "      <td>1</td>\n",
       "      <td>-3.635628</td>\n",
       "      <td>2.597688</td>\n",
       "      <td>0.001959</td>\n",
       "      <td>0.998041</td>\n",
       "      <td>politifact13751</td>\n",
       "    </tr>\n",
       "    <tr>\n",
       "      <th>131</th>\n",
       "      <td>131</td>\n",
       "      <td>politifact</td>\n",
       "      <td>1107</td>\n",
       "      <td>0</td>\n",
       "      <td>0</td>\n",
       "      <td>3.550458</td>\n",
       "      <td>-2.666180</td>\n",
       "      <td>0.998008</td>\n",
       "      <td>0.001992</td>\n",
       "      <td>politifact4588</td>\n",
       "    </tr>\n",
       "    <tr>\n",
       "      <th>132</th>\n",
       "      <td>132</td>\n",
       "      <td>politifact</td>\n",
       "      <td>243</td>\n",
       "      <td>1</td>\n",
       "      <td>1</td>\n",
       "      <td>-3.631677</td>\n",
       "      <td>2.608004</td>\n",
       "      <td>0.001947</td>\n",
       "      <td>0.998053</td>\n",
       "      <td>politifact14161</td>\n",
       "    </tr>\n",
       "    <tr>\n",
       "      <th>133</th>\n",
       "      <td>133</td>\n",
       "      <td>politifact</td>\n",
       "      <td>260</td>\n",
       "      <td>1</td>\n",
       "      <td>1</td>\n",
       "      <td>-3.543155</td>\n",
       "      <td>2.562153</td>\n",
       "      <td>0.002226</td>\n",
       "      <td>0.997774</td>\n",
       "      <td>politifact13775</td>\n",
       "    </tr>\n",
       "    <tr>\n",
       "      <th>134</th>\n",
       "      <td>134</td>\n",
       "      <td>politifact</td>\n",
       "      <td>158</td>\n",
       "      <td>1</td>\n",
       "      <td>1</td>\n",
       "      <td>-3.629941</td>\n",
       "      <td>2.566752</td>\n",
       "      <td>0.002032</td>\n",
       "      <td>0.997968</td>\n",
       "      <td>politifact15501</td>\n",
       "    </tr>\n",
       "  </tbody>\n",
       "</table>\n",
       "<p>135 rows × 10 columns</p>\n",
       "</div>"
      ],
      "text/plain": [
       "     Article      Source  Token_Length  Predictions  Labels  Logit_real(0)  \\\n",
       "0          0  politifact           429            0       0       4.000608   \n",
       "1          1  politifact          4579            0       0       4.025331   \n",
       "2          2  politifact           574            1       1      -3.030061   \n",
       "3          3  politifact           527            1       1      -3.756790   \n",
       "4          4  politifact           481            0       0       4.177752   \n",
       "..       ...         ...           ...          ...     ...            ...   \n",
       "130      130  politifact           559            1       1      -3.635628   \n",
       "131      131  politifact          1107            0       0       3.550458   \n",
       "132      132  politifact           243            1       1      -3.631677   \n",
       "133      133  politifact           260            1       1      -3.543155   \n",
       "134      134  politifact           158            1       1      -3.629941   \n",
       "\n",
       "     Logit_fake(1)  Prob_real(0)  Prob_real(1)        File_Name  \n",
       "0        -3.126282      0.999197      0.000803  politifact13132  \n",
       "1        -3.151489      0.999236      0.000764    politifact348  \n",
       "2         2.121160      0.005759      0.994241  politifact13806  \n",
       "3         2.692146      0.001580      0.998420  politifact14954  \n",
       "4        -3.228481      0.999393      0.000607   politifact1442  \n",
       "..             ...           ...           ...              ...  \n",
       "130       2.597688      0.001959      0.998041  politifact13751  \n",
       "131      -2.666180      0.998008      0.001992   politifact4588  \n",
       "132       2.608004      0.001947      0.998053  politifact14161  \n",
       "133       2.562153      0.002226      0.997774  politifact13775  \n",
       "134       2.566752      0.002032      0.997968  politifact15501  \n",
       "\n",
       "[135 rows x 10 columns]"
      ]
     },
     "execution_count": 7,
     "metadata": {},
     "output_type": "execute_result"
    }
   ],
   "source": [
    "# Label of 0 is real, 1 is fake\n",
    "eval_results = pd.DataFrame({\"Article\": list(range(len(labels))),\n",
    "                             \"Source\": sources,\n",
    "                             \"Token_Length\": article_tokens,\n",
    "                             \"Predictions\": preds,\n",
    "                             \"Labels\": labels,\n",
    "                             \"Logit_real(0)\": [x[0] for x in logits],\n",
    "                             \"Logit_fake(1)\": [x[1] for x in logits],\n",
    "                             \"Prob_real(0)\": [x[0] for x in probs],\n",
    "                             \"Prob_real(1)\": [x[1] for x in probs],\n",
    "                             \"File_Name\": file_names})\n",
    "\n",
    "eval_results"
   ]
  },
  {
   "cell_type": "code",
   "execution_count": 8,
   "metadata": {},
   "outputs": [],
   "source": [
    "# Save evaluation data to csv file\n",
    "eval_results.to_csv(\"eval_data_\" + MODEL_FILE[12:-4] + \".csv\")"
   ]
  },
  {
   "cell_type": "markdown",
   "metadata": {},
   "source": [
    "## IV. Overall Metrics"
   ]
  },
  {
   "cell_type": "code",
   "execution_count": 9,
   "metadata": {},
   "outputs": [
    {
     "data": {
      "text/plain": [
       "{'description': 'PolitiFact only model',\n",
       " 'eval_notes': 'Evaluating PolitiFact data',\n",
       " 'model': 'saved_model_epoch10_20201130_0855.tar',\n",
       " 'epochs': 10,\n",
       " 'batch_size': 8,\n",
       " 'Date_evaluated': '28Nov2020',\n",
       " 'train_data': 'train_data_29Nov_longformer_pf.pickle',\n",
       " 'val_data': 'eval_data_epoch10_20201130_0855.csv',\n",
       " 'eval_data': 'val_data_29Nov_longformer_pf.pickle',\n",
       " 'accuracy': 0.8814814814814815,\n",
       " 'precision': 0.9047619047619048,\n",
       " 'recall': 0.8507462686567164,\n",
       " 'f1': 0.8769230769230769}"
      ]
     },
     "execution_count": 9,
     "metadata": {},
     "output_type": "execute_result"
    }
   ],
   "source": [
    "# Overall metrics\n",
    "precision, recall, f1, _ = sklearn.metrics.precision_recall_fscore_support(\n",
    "    eval_results.Labels, eval_results.Predictions, average=\"binary\")\n",
    "accuracy = sklearn.metrics.accuracy_score(eval_results.Labels, eval_results.Predictions)\n",
    "\n",
    "metrics = {\"description\": DESCRIPTION,\n",
    "           \"eval_notes\": \"Evaluating PolitiFact data\",\n",
    "           \"model\": MODEL_FILE,\n",
    "           \"epochs\": checkpoint[\"epoch\"],\n",
    "           \"batch_size\": EVAL_BATCH_SIZE,\n",
    "           \"Date_evaluated\": \"28Nov2020\",\n",
    "           \"train_data\": \"train_data_29Nov_longformer_pf.pickle\",\n",
    "           \"val_data\": \"eval_data_\" + MODEL_FILE[12:-4] + \".csv\",\n",
    "           \"eval_data\": VAL_DATASET,\n",
    "           \"accuracy\": accuracy,\n",
    "           \"precision\": precision,\n",
    "           \"recall\": recall,\n",
    "           \"f1\": f1}\n",
    "metrics"
   ]
  },
  {
   "cell_type": "code",
   "execution_count": 10,
   "metadata": {},
   "outputs": [],
   "source": [
    "# Save metrics to JSON text file.\n",
    "with open(\"eval_metrics_\" + MODEL_FILE[12:-4] + \".json\", \"wt\") as jfile:\n",
    "    json.dump(metrics, jfile)"
   ]
  },
  {
   "cell_type": "code",
   "execution_count": 11,
   "metadata": {},
   "outputs": [
    {
     "data": {
      "text/html": [
       "<div>\n",
       "<style scoped>\n",
       "    .dataframe tbody tr th:only-of-type {\n",
       "        vertical-align: middle;\n",
       "    }\n",
       "\n",
       "    .dataframe tbody tr th {\n",
       "        vertical-align: top;\n",
       "    }\n",
       "\n",
       "    .dataframe thead th {\n",
       "        text-align: right;\n",
       "    }\n",
       "</style>\n",
       "<table border=\"1\" class=\"dataframe\">\n",
       "  <thead>\n",
       "    <tr style=\"text-align: right;\">\n",
       "      <th></th>\n",
       "      <th>real</th>\n",
       "      <th>fake</th>\n",
       "    </tr>\n",
       "  </thead>\n",
       "  <tbody>\n",
       "    <tr>\n",
       "      <th>real</th>\n",
       "      <td>62</td>\n",
       "      <td>6</td>\n",
       "    </tr>\n",
       "    <tr>\n",
       "      <th>fake</th>\n",
       "      <td>10</td>\n",
       "      <td>57</td>\n",
       "    </tr>\n",
       "  </tbody>\n",
       "</table>\n",
       "</div>"
      ],
      "text/plain": [
       "      real  fake\n",
       "real    62     6\n",
       "fake    10    57"
      ]
     },
     "execution_count": 11,
     "metadata": {},
     "output_type": "execute_result"
    }
   ],
   "source": [
    "cm = pd.DataFrame(sklearn.metrics.confusion_matrix(eval_results.Labels, eval_results.Predictions))\n",
    "label_titles = {0: \"real\", 1: \"fake\"}\n",
    "cm.rename(index=label_titles, columns=label_titles, inplace=True)\n",
    "cm"
   ]
  },
  {
   "cell_type": "code",
   "execution_count": null,
   "metadata": {},
   "outputs": [],
   "source": []
  }
 ],
 "metadata": {
  "kernelspec": {
   "display_name": "Python 3",
   "language": "python",
   "name": "python3"
  },
  "language_info": {
   "codemirror_mode": {
    "name": "ipython",
    "version": 3
   },
   "file_extension": ".py",
   "mimetype": "text/x-python",
   "name": "python",
   "nbconvert_exporter": "python",
   "pygments_lexer": "ipython3",
   "version": "3.8.5"
  }
 },
 "nbformat": 4,
 "nbformat_minor": 4
}
