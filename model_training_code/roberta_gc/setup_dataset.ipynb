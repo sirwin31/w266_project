{
 "cells": [
  {
   "cell_type": "markdown",
   "metadata": {},
   "source": [
    "# Setup Topic Chooser Dataset"
   ]
  },
  {
   "cell_type": "code",
   "execution_count": 5,
   "metadata": {},
   "outputs": [],
   "source": [
    "# import pathlib\n",
    "import pickle\n",
    "import sys\n",
    "\n",
    "import torch\n",
    "import transformers\n",
    "\n",
    "sys.path.insert(0, '/home/jupyter')\n",
    "import util.data"
   ]
  },
  {
   "cell_type": "code",
   "execution_count": 3,
   "metadata": {},
   "outputs": [],
   "source": [
    "MODEL_NAME = \"roberta-base\"\n",
    "DATA_PATH = r\"../../data/FakeNewsNet/fnndata\""
   ]
  },
  {
   "cell_type": "code",
   "execution_count": 4,
   "metadata": {},
   "outputs": [
    {
     "name": "stderr",
     "output_type": "stream",
     "text": [
      "gossipcop:real: 12056it [00:04, 2495.93it/s]\n",
      "gossipcop:fake: 3800it [00:01, 3027.13it/s]\n"
     ]
    }
   ],
   "source": [
    "train_texts, val_texts = util.data.load_full_data(\n",
    "    DATA_PATH, [\"gossipcop\"],\n",
    "    min_char=500,\n",
    "    val_split=0.25)"
   ]
  },
  {
   "cell_type": "code",
   "execution_count": 6,
   "metadata": {},
   "outputs": [],
   "source": [
    "tokenizer = transformers.RobertaTokenizer.from_pretrained(MODEL_NAME)"
   ]
  },
  {
   "cell_type": "code",
   "execution_count": 8,
   "metadata": {},
   "outputs": [],
   "source": [
    "train_data = util.data.FNDataset(train_texts, tokenizer)"
   ]
  },
  {
   "cell_type": "code",
   "execution_count": 9,
   "metadata": {},
   "outputs": [],
   "source": [
    "val_data = util.data.FNDataset(val_texts, tokenizer)"
   ]
  },
  {
   "cell_type": "code",
   "execution_count": 10,
   "metadata": {},
   "outputs": [
    {
     "name": "stdout",
     "output_type": "stream",
     "text": [
      "Training Data Records: 10583\n",
      "Validation Data Records: 3528\n"
     ]
    }
   ],
   "source": [
    "print(\"Training Data Records:\", len(train_data))\n",
    "print(\"Validation Data Records:\", len(val_data))"
   ]
  },
  {
   "cell_type": "code",
   "execution_count": 11,
   "metadata": {},
   "outputs": [],
   "source": [
    "with open(f\"train_data_27Nov_roberta.pickle\", \"wb\") as pfile:\n",
    "    pickle.dump(train_data, pfile)\n",
    "with open(f\"val_data_27Nov_roberta.pickle.pickle\", \"wb\") as pfile:\n",
    "    pickle.dump(val_data, pfile)"
   ]
  },
  {
   "cell_type": "code",
   "execution_count": null,
   "metadata": {},
   "outputs": [],
   "source": []
  }
 ],
 "metadata": {
  "kernelspec": {
   "display_name": "Python 3",
   "language": "python",
   "name": "python3"
  },
  "language_info": {
   "codemirror_mode": {
    "name": "ipython",
    "version": 3
   },
   "file_extension": ".py",
   "mimetype": "text/x-python",
   "name": "python",
   "nbconvert_exporter": "python",
   "pygments_lexer": "ipython3",
   "version": "3.8.5"
  }
 },
 "nbformat": 4,
 "nbformat_minor": 4
}
