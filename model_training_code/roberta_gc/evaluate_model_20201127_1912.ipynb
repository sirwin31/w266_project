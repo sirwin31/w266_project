{
 "cells": [
  {
   "cell_type": "markdown",
   "metadata": {},
   "source": [
    "# Evaulate Distilbert TopicChooser Model\n",
    "### 25 Nov 2020"
   ]
  },
  {
   "cell_type": "markdown",
   "metadata": {},
   "source": [
    "## I. Evaluation Parameters"
   ]
  },
  {
   "cell_type": "code",
   "execution_count": 1,
   "metadata": {},
   "outputs": [],
   "source": [
    "# Set Evaulation Parameters\n",
    "MODEL_NAME = \"roberta-base\"\n",
    "MODEL_FILE =\"saved_model_epoch1_20201127_1912.tar\"\n",
    "VAL_DATASET = \"val_data_27Nov_gc_roberta.pickle\"\n",
    "EVAL_BATCH_SIZE = 64\n",
    "DESCRIPTION = \"Roberta Gossipcop model\""
   ]
  },
  {
   "cell_type": "markdown",
   "metadata": {},
   "source": [
    "## II. Setup and Load Model"
   ]
  },
  {
   "cell_type": "code",
   "execution_count": 2,
   "metadata": {},
   "outputs": [],
   "source": [
    "import pickle\n",
    "import sys\n",
    "\n",
    "import json\n",
    "import pandas as pd\n",
    "import pickle\n",
    "import sklearn.metrics\n",
    "import tqdm\n",
    "import torch\n",
    "import transformers as hft\n",
    "\n",
    "sys.path.insert(0, \"/home/jupyter\")\n",
    "import util.log\n",
    "import util.data"
   ]
  },
  {
   "cell_type": "code",
   "execution_count": 4,
   "metadata": {},
   "outputs": [],
   "source": [
    "# Load evaluation data\n",
    "with open(VAL_DATASET, \"rb\") as vfile:\n",
    "    val_dataset = pickle.load(vfile)"
   ]
  },
  {
   "cell_type": "code",
   "execution_count": 6,
   "metadata": {},
   "outputs": [
    {
     "name": "stderr",
     "output_type": "stream",
     "text": [
      "Some weights of the model checkpoint at roberta-base were not used when initializing RobertaForSequenceClassification: ['lm_head.bias', 'lm_head.dense.weight', 'lm_head.dense.bias', 'lm_head.layer_norm.weight', 'lm_head.layer_norm.bias', 'lm_head.decoder.weight', 'roberta.pooler.dense.weight', 'roberta.pooler.dense.bias']\n",
      "- This IS expected if you are initializing RobertaForSequenceClassification from the checkpoint of a model trained on another task or with another architecture (e.g. initializing a BertForSequenceClassification model from a BertForPreTraining model).\n",
      "- This IS NOT expected if you are initializing RobertaForSequenceClassification from the checkpoint of a model that you expect to be exactly identical (initializing a BertForSequenceClassification model from a BertForSequenceClassification model).\n",
      "Some weights of RobertaForSequenceClassification were not initialized from the model checkpoint at roberta-base and are newly initialized: ['classifier.dense.weight', 'classifier.dense.bias', 'classifier.out_proj.weight', 'classifier.out_proj.bias']\n",
      "You should probably TRAIN this model on a down-stream task to be able to use it for predictions and inference.\n"
     ]
    },
    {
     "data": {
      "text/plain": [
       "<All keys matched successfully>"
      ]
     },
     "execution_count": 6,
     "metadata": {},
     "output_type": "execute_result"
    }
   ],
   "source": [
    "# Load saved model\n",
    "checkpoint = torch.load(MODEL_FILE)\n",
    "model = (hft.RobertaForSequenceClassification\n",
    "         .from_pretrained(MODEL_NAME))\n",
    "model.load_state_dict(checkpoint[\"model\"])"
   ]
  },
  {
   "cell_type": "code",
   "execution_count": 7,
   "metadata": {},
   "outputs": [
    {
     "data": {
      "text/plain": [
       "device(type='cuda')"
      ]
     },
     "execution_count": 7,
     "metadata": {},
     "output_type": "execute_result"
    }
   ],
   "source": [
    "# Move model to GPU if available\n",
    "device = (torch.device('cuda') if torch.cuda.is_available()\n",
    "          else torch.device('cpu'))\n",
    "model.to(device)\n",
    "model.eval();\n",
    "device"
   ]
  },
  {
   "cell_type": "markdown",
   "metadata": {},
   "source": [
    "## III. Evaluation Loop and Results Dataframe"
   ]
  },
  {
   "cell_type": "code",
   "execution_count": 8,
   "metadata": {},
   "outputs": [
    {
     "name": "stderr",
     "output_type": "stream",
     "text": [
      "56it [01:00,  1.09s/it]\n"
     ]
    }
   ],
   "source": [
    "# Evaulate model\n",
    "eval_loader = torch.utils.data.DataLoader(val_dataset,\n",
    "                                batch_size=EVAL_BATCH_SIZE,\n",
    "                                shuffle=False)\n",
    "labels = []\n",
    "preds = []\n",
    "logits = []\n",
    "probs = []\n",
    "sources = []\n",
    "article_tokens = []\n",
    "file_names = []\n",
    "\n",
    "softmax = torch.nn.Softmax(dim=1)\n",
    "\n",
    "with torch.no_grad():\n",
    "    for art_num, article in tqdm.tqdm(enumerate(eval_loader)):\n",
    "        input_ids = article[\"input_ids\"].to(device)\n",
    "        attent_mask = article[\"attention_mask\"].to(device)\n",
    "        output = model(input_ids,\n",
    "                       attention_mask=attent_mask,\n",
    "                       output_hidden_states=False,\n",
    "                       output_attentions=False)\n",
    "        prob = softmax(output[0].detach().cpu()).numpy()\n",
    "        logit = output[0].detach().cpu().numpy()\n",
    "        pred = [0 if lgt[0] > lgt[1] else 1 for lgt in logit]\n",
    "        label = article[\"labels\"].numpy()\n",
    "        labels.extend(label)\n",
    "        preds.extend(pred)\n",
    "        logits.extend(logit)\n",
    "        probs.extend(prob)\n",
    "        article_tokens.extend(article[\"article_tokens\"].numpy())\n",
    "        sources.extend(article[\"sources\"])\n",
    "        file_names.extend(article[\"file_names\"])"
   ]
  },
  {
   "cell_type": "code",
   "execution_count": 14,
   "metadata": {},
   "outputs": [
    {
     "data": {
      "text/html": [
       "<div>\n",
       "<style scoped>\n",
       "    .dataframe tbody tr th:only-of-type {\n",
       "        vertical-align: middle;\n",
       "    }\n",
       "\n",
       "    .dataframe tbody tr th {\n",
       "        vertical-align: top;\n",
       "    }\n",
       "\n",
       "    .dataframe thead th {\n",
       "        text-align: right;\n",
       "    }\n",
       "</style>\n",
       "<table border=\"1\" class=\"dataframe\">\n",
       "  <thead>\n",
       "    <tr style=\"text-align: right;\">\n",
       "      <th></th>\n",
       "      <th>Article</th>\n",
       "      <th>Source</th>\n",
       "      <th>Token_Length</th>\n",
       "      <th>Predictions</th>\n",
       "      <th>Labels</th>\n",
       "      <th>Logit_real(0)</th>\n",
       "      <th>Logit_fake(1)</th>\n",
       "      <th>Prob_real(0)</th>\n",
       "      <th>Prob_real(1)</th>\n",
       "      <th>File_Name</th>\n",
       "    </tr>\n",
       "  </thead>\n",
       "  <tbody>\n",
       "    <tr>\n",
       "      <th>0</th>\n",
       "      <td>0</td>\n",
       "      <td>gossipcop</td>\n",
       "      <td>194</td>\n",
       "      <td>0</td>\n",
       "      <td>0</td>\n",
       "      <td>0.853617</td>\n",
       "      <td>-0.849413</td>\n",
       "      <td>0.845930</td>\n",
       "      <td>0.154070</td>\n",
       "      <td>gossipcop-860374</td>\n",
       "    </tr>\n",
       "    <tr>\n",
       "      <th>1</th>\n",
       "      <td>1</td>\n",
       "      <td>gossipcop</td>\n",
       "      <td>436</td>\n",
       "      <td>0</td>\n",
       "      <td>0</td>\n",
       "      <td>0.675368</td>\n",
       "      <td>-0.677988</td>\n",
       "      <td>0.794678</td>\n",
       "      <td>0.205322</td>\n",
       "      <td>gossipcop-907444</td>\n",
       "    </tr>\n",
       "    <tr>\n",
       "      <th>2</th>\n",
       "      <td>2</td>\n",
       "      <td>gossipcop</td>\n",
       "      <td>478</td>\n",
       "      <td>0</td>\n",
       "      <td>0</td>\n",
       "      <td>0.151646</td>\n",
       "      <td>-0.096010</td>\n",
       "      <td>0.561599</td>\n",
       "      <td>0.438401</td>\n",
       "      <td>gossipcop-871979</td>\n",
       "    </tr>\n",
       "    <tr>\n",
       "      <th>3</th>\n",
       "      <td>3</td>\n",
       "      <td>gossipcop</td>\n",
       "      <td>183</td>\n",
       "      <td>1</td>\n",
       "      <td>1</td>\n",
       "      <td>-0.841862</td>\n",
       "      <td>1.064046</td>\n",
       "      <td>0.129441</td>\n",
       "      <td>0.870559</td>\n",
       "      <td>gossipcop-9746788878</td>\n",
       "    </tr>\n",
       "    <tr>\n",
       "      <th>4</th>\n",
       "      <td>4</td>\n",
       "      <td>gossipcop</td>\n",
       "      <td>399</td>\n",
       "      <td>0</td>\n",
       "      <td>0</td>\n",
       "      <td>0.034320</td>\n",
       "      <td>0.019556</td>\n",
       "      <td>0.503691</td>\n",
       "      <td>0.496309</td>\n",
       "      <td>gossipcop-846726</td>\n",
       "    </tr>\n",
       "    <tr>\n",
       "      <th>...</th>\n",
       "      <td>...</td>\n",
       "      <td>...</td>\n",
       "      <td>...</td>\n",
       "      <td>...</td>\n",
       "      <td>...</td>\n",
       "      <td>...</td>\n",
       "      <td>...</td>\n",
       "      <td>...</td>\n",
       "      <td>...</td>\n",
       "      <td>...</td>\n",
       "    </tr>\n",
       "    <tr>\n",
       "      <th>3523</th>\n",
       "      <td>3523</td>\n",
       "      <td>gossipcop</td>\n",
       "      <td>734</td>\n",
       "      <td>0</td>\n",
       "      <td>0</td>\n",
       "      <td>1.093236</td>\n",
       "      <td>-1.102704</td>\n",
       "      <td>0.899884</td>\n",
       "      <td>0.100116</td>\n",
       "      <td>gossipcop-881564</td>\n",
       "    </tr>\n",
       "    <tr>\n",
       "      <th>3524</th>\n",
       "      <td>3524</td>\n",
       "      <td>gossipcop</td>\n",
       "      <td>1192</td>\n",
       "      <td>0</td>\n",
       "      <td>0</td>\n",
       "      <td>0.962942</td>\n",
       "      <td>-0.977192</td>\n",
       "      <td>0.874367</td>\n",
       "      <td>0.125633</td>\n",
       "      <td>gossipcop-888811</td>\n",
       "    </tr>\n",
       "    <tr>\n",
       "      <th>3525</th>\n",
       "      <td>3525</td>\n",
       "      <td>gossipcop</td>\n",
       "      <td>634</td>\n",
       "      <td>0</td>\n",
       "      <td>0</td>\n",
       "      <td>0.905938</td>\n",
       "      <td>-0.907551</td>\n",
       "      <td>0.859783</td>\n",
       "      <td>0.140217</td>\n",
       "      <td>gossipcop-905426</td>\n",
       "    </tr>\n",
       "    <tr>\n",
       "      <th>3526</th>\n",
       "      <td>3526</td>\n",
       "      <td>gossipcop</td>\n",
       "      <td>166</td>\n",
       "      <td>1</td>\n",
       "      <td>1</td>\n",
       "      <td>-0.431213</td>\n",
       "      <td>0.569775</td>\n",
       "      <td>0.268747</td>\n",
       "      <td>0.731253</td>\n",
       "      <td>gossipcop-1120081991</td>\n",
       "    </tr>\n",
       "    <tr>\n",
       "      <th>3527</th>\n",
       "      <td>3527</td>\n",
       "      <td>gossipcop</td>\n",
       "      <td>548</td>\n",
       "      <td>0</td>\n",
       "      <td>0</td>\n",
       "      <td>1.428028</td>\n",
       "      <td>-1.440910</td>\n",
       "      <td>0.946289</td>\n",
       "      <td>0.053711</td>\n",
       "      <td>gossipcop-935756</td>\n",
       "    </tr>\n",
       "  </tbody>\n",
       "</table>\n",
       "<p>3528 rows × 10 columns</p>\n",
       "</div>"
      ],
      "text/plain": [
       "      Article     Source  Token_Length  Predictions  Labels  Logit_real(0)  \\\n",
       "0           0  gossipcop           194            0       0       0.853617   \n",
       "1           1  gossipcop           436            0       0       0.675368   \n",
       "2           2  gossipcop           478            0       0       0.151646   \n",
       "3           3  gossipcop           183            1       1      -0.841862   \n",
       "4           4  gossipcop           399            0       0       0.034320   \n",
       "...       ...        ...           ...          ...     ...            ...   \n",
       "3523     3523  gossipcop           734            0       0       1.093236   \n",
       "3524     3524  gossipcop          1192            0       0       0.962942   \n",
       "3525     3525  gossipcop           634            0       0       0.905938   \n",
       "3526     3526  gossipcop           166            1       1      -0.431213   \n",
       "3527     3527  gossipcop           548            0       0       1.428028   \n",
       "\n",
       "      Logit_fake(1)  Prob_real(0)  Prob_real(1)             File_Name  \n",
       "0         -0.849413      0.845930      0.154070      gossipcop-860374  \n",
       "1         -0.677988      0.794678      0.205322      gossipcop-907444  \n",
       "2         -0.096010      0.561599      0.438401      gossipcop-871979  \n",
       "3          1.064046      0.129441      0.870559  gossipcop-9746788878  \n",
       "4          0.019556      0.503691      0.496309      gossipcop-846726  \n",
       "...             ...           ...           ...                   ...  \n",
       "3523      -1.102704      0.899884      0.100116      gossipcop-881564  \n",
       "3524      -0.977192      0.874367      0.125633      gossipcop-888811  \n",
       "3525      -0.907551      0.859783      0.140217      gossipcop-905426  \n",
       "3526       0.569775      0.268747      0.731253  gossipcop-1120081991  \n",
       "3527      -1.440910      0.946289      0.053711      gossipcop-935756  \n",
       "\n",
       "[3528 rows x 10 columns]"
      ]
     },
     "execution_count": 14,
     "metadata": {},
     "output_type": "execute_result"
    }
   ],
   "source": [
    "# Label of 0 is real, 1 is fake\n",
    "eval_results = pd.DataFrame({\"Article\": list(range(len(labels))),\n",
    "                             \"Source\": sources,\n",
    "                             \"Token_Length\": article_tokens,\n",
    "                             \"Predictions\": preds,\n",
    "                             \"Labels\": labels,\n",
    "                             \"Logit_real(0)\": [x[0] for x in logits],\n",
    "                             \"Logit_fake(1)\": [x[1] for x in logits],\n",
    "                             \"Prob_real(0)\": [x[0] for x in probs],\n",
    "                             \"Prob_real(1)\": [x[1] for x in probs],\n",
    "                             \"File_Name\": file_names})\n",
    "\n",
    "eval_results"
   ]
  },
  {
   "cell_type": "code",
   "execution_count": 15,
   "metadata": {},
   "outputs": [],
   "source": [
    "# Save evaluation data to csv file\n",
    "eval_results.to_csv(\"eval_data_\" + MODEL_FILE[12:-4] + \".csv\")"
   ]
  },
  {
   "cell_type": "markdown",
   "metadata": {},
   "source": [
    "## IV. Overall Metrics"
   ]
  },
  {
   "cell_type": "code",
   "execution_count": 16,
   "metadata": {},
   "outputs": [
    {
     "data": {
      "text/plain": [
       "{'description': 'Roberta Gossipcop model',\n",
       " 'eval_notes': 'Evaluating both gossipcop and poltifact data',\n",
       " 'model': 'saved_model_epoch1_20201127_1912.tar',\n",
       " 'epochs': 1,\n",
       " 'batch_size': 64,\n",
       " 'Date_evaluated': '25Nov2020',\n",
       " 'train_data': 'train_dataset_25Nov_source_distilbert.pickle',\n",
       " 'val_data': 'eval_data_epoch1_20201127_1912.csv',\n",
       " 'eval_data': 'val_data_27Nov_gc_roberta.pickle',\n",
       " 'accuracy': 0.7871315192743764,\n",
       " 'precision': 0.54132539091586,\n",
       " 'recall': 0.8433874709976799,\n",
       " 'f1': 0.6594104308390023}"
      ]
     },
     "execution_count": 16,
     "metadata": {},
     "output_type": "execute_result"
    }
   ],
   "source": [
    "# Overall metrics\n",
    "precision, recall, f1, _ = sklearn.metrics.precision_recall_fscore_support(\n",
    "    eval_results.Labels, eval_results.Predictions, average=\"binary\")\n",
    "accuracy = sklearn.metrics.accuracy_score(eval_results.Labels, eval_results.Predictions)\n",
    "\n",
    "metrics = {\"description\": DESCRIPTION,\n",
    "           \"eval_notes\": \"Evaluating both gossipcop and poltifact data\",\n",
    "           \"model\": MODEL_FILE,\n",
    "           \"epochs\": checkpoint[\"epoch\"],\n",
    "           \"batch_size\": EVAL_BATCH_SIZE,\n",
    "           \"Date_evaluated\": \"25Nov2020\",\n",
    "           \"train_data\": \"train_dataset_25Nov_source_distilbert.pickle\",\n",
    "           \"val_data\": \"eval_data_\" + MODEL_FILE[12:-4] + \".csv\",\n",
    "           \"eval_data\": VAL_DATASET,\n",
    "           \"accuracy\": accuracy,\n",
    "           \"precision\": precision,\n",
    "           \"recall\": recall,\n",
    "           \"f1\": f1}\n",
    "metrics"
   ]
  },
  {
   "cell_type": "code",
   "execution_count": 12,
   "metadata": {},
   "outputs": [],
   "source": [
    "# Save metrics to JSON text file.\n",
    "with open(\"eval_metrics_\" + MODEL_FILE[12:-4] + \".json\", \"wt\") as jfile:\n",
    "    json.dump(metrics, jfile)"
   ]
  },
  {
   "cell_type": "code",
   "execution_count": 13,
   "metadata": {},
   "outputs": [
    {
     "data": {
      "text/html": [
       "<div>\n",
       "<style scoped>\n",
       "    .dataframe tbody tr th:only-of-type {\n",
       "        vertical-align: middle;\n",
       "    }\n",
       "\n",
       "    .dataframe tbody tr th {\n",
       "        vertical-align: top;\n",
       "    }\n",
       "\n",
       "    .dataframe thead th {\n",
       "        text-align: right;\n",
       "    }\n",
       "</style>\n",
       "<table border=\"1\" class=\"dataframe\">\n",
       "  <thead>\n",
       "    <tr style=\"text-align: right;\">\n",
       "      <th></th>\n",
       "      <th>gossip</th>\n",
       "      <th>political</th>\n",
       "    </tr>\n",
       "  </thead>\n",
       "  <tbody>\n",
       "    <tr>\n",
       "      <th>gossip</th>\n",
       "      <td>2050</td>\n",
       "      <td>616</td>\n",
       "    </tr>\n",
       "    <tr>\n",
       "      <th>political</th>\n",
       "      <td>135</td>\n",
       "      <td>727</td>\n",
       "    </tr>\n",
       "  </tbody>\n",
       "</table>\n",
       "</div>"
      ],
      "text/plain": [
       "           gossip  political\n",
       "gossip       2050        616\n",
       "political     135        727"
      ]
     },
     "execution_count": 13,
     "metadata": {},
     "output_type": "execute_result"
    }
   ],
   "source": [
    "cm = pd.DataFrame(sklearn.metrics.confusion_matrix(eval_results.Labels, eval_results.Predictions))\n",
    "label_titles = {0: \"gossip\", 1: \"political\"}\n",
    "cm.rename(index=label_titles, columns=label_titles, inplace=True)\n",
    "cm"
   ]
  }
 ],
 "metadata": {
  "kernelspec": {
   "display_name": "Python 3",
   "language": "python",
   "name": "python3"
  },
  "language_info": {
   "codemirror_mode": {
    "name": "ipython",
    "version": 3
   },
   "file_extension": ".py",
   "mimetype": "text/x-python",
   "name": "python",
   "nbconvert_exporter": "python",
   "pygments_lexer": "ipython3",
   "version": "3.8.5"
  }
 },
 "nbformat": 4,
 "nbformat_minor": 4
}
